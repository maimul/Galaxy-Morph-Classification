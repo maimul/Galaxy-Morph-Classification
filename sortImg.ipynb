{
 "cells": [
  {
   "cell_type": "code",
   "execution_count": 8,
   "metadata": {},
   "outputs": [],
   "source": [
    "import os\n",
    "import shutil\n",
    "from ultralytics import YOLO\n",
    "import json"
   ]
  },
  {
   "cell_type": "code",
   "execution_count": 9,
   "metadata": {},
   "outputs": [
    {
     "name": "stderr",
     "output_type": "stream",
     "text": [
      "\n",
      "image 1/1 /Users/maimulm2/Documents/UM/P1:P2/Galaxy Zoo 2/images_gz2/images/4.jpg: 640x640 1 Elliptical, 787.0ms\n",
      "Speed: 2.6ms preprocess, 787.0ms inference, 1.0ms postprocess per image at shape (1, 3, 640, 640)\n"
     ]
    }
   ],
   "source": [
    "# Step 1: Load the pre-trained model\n",
    "model = YOLO('best.pt')\n",
    "\n",
    "results = model.predict(\"/Users/maimulm2/Documents/UM/P1:P2/Galaxy Zoo 2/images_gz2/images/4.jpg\")\n",
    "results = json.loads(results[0].tojson())"
   ]
  },
  {
   "cell_type": "code",
   "execution_count": 10,
   "metadata": {},
   "outputs": [
    {
     "data": {
      "text/plain": [
       "'Elliptical'"
      ]
     },
     "execution_count": 10,
     "metadata": {},
     "output_type": "execute_result"
    }
   ],
   "source": [
    "results[0]['name']"
   ]
  },
  {
   "cell_type": "code",
   "execution_count": 11,
   "metadata": {},
   "outputs": [],
   "source": [
    "def get_pred(img):\n",
    "    results = model.predict(img)\n",
    "    results = json.loads(results[0].tojson())\n",
    "    results = results[0]['name']\n",
    "    print(results)\n",
    "    return results\n",
    "\n",
    "# get_pred(\"/Users/maimulm2/Documents/UM/P1:P2/PyTorch Project/Main/elliptical/7234.jpg\")"
   ]
  },
  {
   "cell_type": "code",
   "execution_count": 12,
   "metadata": {},
   "outputs": [],
   "source": [
    "# Get directory of the image\n",
    "# Get list of all images in the directory\n",
    "# For each image, run the model\n",
    "# Get the results\n",
    "# Move the image to the appropriate folder\n",
    "\n",
    "def main_run():\n",
    "    img_source = \"/Users/maimulm2/Documents/UM/P1:P2/PyTorch Project/Main/testData\"\n",
    "    dir_list = os.listdir(img_source)\n",
    "    img_list = [item for item in dir_list if item.endswith(\".jpg\")]\n",
    "\n",
    "    elliptical = \"/Users/maimulm2/Documents/UM/P1:P2/PyTorch Project/Main/elliptical/\"\n",
    "    spiral = \"/Users/maimulm2/Documents/UM/P1:P2/PyTorch Project/Main/spiral/\"\n",
    "\n",
    "    # Create an empty list\n",
    "    results = []\n",
    "\n",
    "\n",
    "    # Loop through the list of images\n",
    "    for img in img_list:\n",
    "        img_file = os.path.join(img_source,img)\n",
    "\n",
    "        try:\n",
    "            result = get_pred(os.path.join(img_source, img))\n",
    "\n",
    "            if result == \"Elliptical\":\n",
    "\n",
    "                shutil.copy(img_file, elliptical)\n",
    "                print(img_file, elliptical)\n",
    "                print(\"Elliptical\")\n",
    "\n",
    "\n",
    "            elif result == \"Spiral\":\n",
    "\n",
    "                shutil.copy(img_file, spiral)\n",
    "                print(img_file, spiral)\n",
    "                print(\"Spiral\")\n",
    "\n",
    "        except Exception as e:\n",
    "            print(e)\n",
    "            continue\n",
    "        \n",
    "\n",
    "  "
   ]
  },
  {
   "cell_type": "code",
   "execution_count": 13,
   "metadata": {},
   "outputs": [
    {
     "name": "stderr",
     "output_type": "stream",
     "text": [
      "\n",
      "image 1/1 /Users/maimulm2/Documents/UM/P1:P2/PyTorch Project/Main/testData/46118_jpg.rf.27ef4358f29f51cd2948ca6d46f81f67.jpg: 640x640 1 Spiral, 829.0ms\n",
      "Speed: 1.2ms preprocess, 829.0ms inference, 0.8ms postprocess per image at shape (1, 3, 640, 640)\n",
      "\n"
     ]
    },
    {
     "name": "stdout",
     "output_type": "stream",
     "text": [
      "Spiral\n",
      "/Users/maimulm2/Documents/UM/P1:P2/PyTorch Project/Main/testData/46118_jpg.rf.27ef4358f29f51cd2948ca6d46f81f67.jpg /Users/maimulm2/Documents/UM/P1:P2/PyTorch Project/Main/spiral/\n",
      "Spiral\n"
     ]
    },
    {
     "name": "stderr",
     "output_type": "stream",
     "text": [
      "image 1/1 /Users/maimulm2/Documents/UM/P1:P2/PyTorch Project/Main/testData/273741_jpg.rf.55dbfa7a1de692cfcac71bb770f52b4b.jpg: 640x640 2 Spirals, 743.4ms\n",
      "Speed: 1.1ms preprocess, 743.4ms inference, 0.8ms postprocess per image at shape (1, 3, 640, 640)\n",
      "\n"
     ]
    },
    {
     "name": "stdout",
     "output_type": "stream",
     "text": [
      "Spiral\n",
      "/Users/maimulm2/Documents/UM/P1:P2/PyTorch Project/Main/testData/273741_jpg.rf.55dbfa7a1de692cfcac71bb770f52b4b.jpg /Users/maimulm2/Documents/UM/P1:P2/PyTorch Project/Main/spiral/\n",
      "Spiral\n"
     ]
    },
    {
     "name": "stderr",
     "output_type": "stream",
     "text": [
      "image 1/1 /Users/maimulm2/Documents/UM/P1:P2/PyTorch Project/Main/testData/67260_jpg.rf.3e917e3e9fb9d29659e0bc1fb7d2f40b.jpg: 640x640 2 Spirals, 736.1ms\n",
      "Speed: 1.1ms preprocess, 736.1ms inference, 0.5ms postprocess per image at shape (1, 3, 640, 640)\n",
      "\n"
     ]
    },
    {
     "name": "stdout",
     "output_type": "stream",
     "text": [
      "Spiral\n",
      "/Users/maimulm2/Documents/UM/P1:P2/PyTorch Project/Main/testData/67260_jpg.rf.3e917e3e9fb9d29659e0bc1fb7d2f40b.jpg /Users/maimulm2/Documents/UM/P1:P2/PyTorch Project/Main/spiral/\n",
      "Spiral\n"
     ]
    },
    {
     "name": "stderr",
     "output_type": "stream",
     "text": [
      "image 1/1 /Users/maimulm2/Documents/UM/P1:P2/PyTorch Project/Main/testData/48281_jpg.rf.67c1d9c6c01a111c4bf7c9d2d3b8dcca.jpg: 640x640 1 Elliptical, 1 Spiral, 751.5ms\n",
      "Speed: 1.2ms preprocess, 751.5ms inference, 0.6ms postprocess per image at shape (1, 3, 640, 640)\n",
      "\n"
     ]
    },
    {
     "name": "stdout",
     "output_type": "stream",
     "text": [
      "Spiral\n",
      "/Users/maimulm2/Documents/UM/P1:P2/PyTorch Project/Main/testData/48281_jpg.rf.67c1d9c6c01a111c4bf7c9d2d3b8dcca.jpg /Users/maimulm2/Documents/UM/P1:P2/PyTorch Project/Main/spiral/\n",
      "Spiral\n"
     ]
    },
    {
     "name": "stderr",
     "output_type": "stream",
     "text": [
      "image 1/1 /Users/maimulm2/Documents/UM/P1:P2/PyTorch Project/Main/testData/295287.jpg: 640x640 1 Spiral, 747.0ms\n",
      "Speed: 2.0ms preprocess, 747.0ms inference, 0.8ms postprocess per image at shape (1, 3, 640, 640)\n",
      "\n"
     ]
    },
    {
     "name": "stdout",
     "output_type": "stream",
     "text": [
      "Spiral\n",
      "/Users/maimulm2/Documents/UM/P1:P2/PyTorch Project/Main/testData/295287.jpg /Users/maimulm2/Documents/UM/P1:P2/PyTorch Project/Main/spiral/\n",
      "Spiral\n"
     ]
    },
    {
     "name": "stderr",
     "output_type": "stream",
     "text": [
      "image 1/1 /Users/maimulm2/Documents/UM/P1:P2/PyTorch Project/Main/testData/295293.jpg: 640x640 (no detections), 768.6ms\n",
      "Speed: 2.0ms preprocess, 768.6ms inference, 0.7ms postprocess per image at shape (1, 3, 640, 640)\n",
      "\n"
     ]
    },
    {
     "name": "stdout",
     "output_type": "stream",
     "text": [
      "list index out of range\n"
     ]
    },
    {
     "name": "stderr",
     "output_type": "stream",
     "text": [
      "image 1/1 /Users/maimulm2/Documents/UM/P1:P2/PyTorch Project/Main/testData/295251.jpg: 640x640 1 Elliptical, 789.3ms\n",
      "Speed: 2.0ms preprocess, 789.3ms inference, 0.5ms postprocess per image at shape (1, 3, 640, 640)\n",
      "\n"
     ]
    },
    {
     "name": "stdout",
     "output_type": "stream",
     "text": [
      "Elliptical\n",
      "/Users/maimulm2/Documents/UM/P1:P2/PyTorch Project/Main/testData/295251.jpg /Users/maimulm2/Documents/UM/P1:P2/PyTorch Project/Main/elliptical/\n",
      "Elliptical\n"
     ]
    },
    {
     "name": "stderr",
     "output_type": "stream",
     "text": [
      "image 1/1 /Users/maimulm2/Documents/UM/P1:P2/PyTorch Project/Main/testData/295279.jpg: 640x640 1 Elliptical, 746.2ms\n",
      "Speed: 2.1ms preprocess, 746.2ms inference, 0.5ms postprocess per image at shape (1, 3, 640, 640)\n",
      "\n"
     ]
    },
    {
     "name": "stdout",
     "output_type": "stream",
     "text": [
      "Elliptical\n",
      "/Users/maimulm2/Documents/UM/P1:P2/PyTorch Project/Main/testData/295279.jpg /Users/maimulm2/Documents/UM/P1:P2/PyTorch Project/Main/elliptical/\n",
      "Elliptical\n"
     ]
    },
    {
     "name": "stderr",
     "output_type": "stream",
     "text": [
      "image 1/1 /Users/maimulm2/Documents/UM/P1:P2/PyTorch Project/Main/testData/295292.jpg: 640x640 1 Elliptical, 1 Spiral, 756.8ms\n",
      "Speed: 2.1ms preprocess, 756.8ms inference, 0.6ms postprocess per image at shape (1, 3, 640, 640)\n",
      "\n"
     ]
    },
    {
     "name": "stdout",
     "output_type": "stream",
     "text": [
      "Spiral\n",
      "/Users/maimulm2/Documents/UM/P1:P2/PyTorch Project/Main/testData/295292.jpg /Users/maimulm2/Documents/UM/P1:P2/PyTorch Project/Main/spiral/\n",
      "Spiral\n"
     ]
    },
    {
     "name": "stderr",
     "output_type": "stream",
     "text": [
      "image 1/1 /Users/maimulm2/Documents/UM/P1:P2/PyTorch Project/Main/testData/295286.jpg: 640x640 1 Spiral, 1039.4ms\n",
      "Speed: 2.3ms preprocess, 1039.4ms inference, 1.1ms postprocess per image at shape (1, 3, 640, 640)\n",
      "\n"
     ]
    },
    {
     "name": "stdout",
     "output_type": "stream",
     "text": [
      "Spiral\n",
      "/Users/maimulm2/Documents/UM/P1:P2/PyTorch Project/Main/testData/295286.jpg /Users/maimulm2/Documents/UM/P1:P2/PyTorch Project/Main/spiral/\n",
      "Spiral\n"
     ]
    },
    {
     "name": "stderr",
     "output_type": "stream",
     "text": [
      "image 1/1 /Users/maimulm2/Documents/UM/P1:P2/PyTorch Project/Main/testData/878_jpg.rf.6666f0869c99681256acc21d57affd99.jpg: 640x640 1 Spiral, 1396.8ms\n",
      "Speed: 1.8ms preprocess, 1396.8ms inference, 1.0ms postprocess per image at shape (1, 3, 640, 640)\n",
      "\n"
     ]
    },
    {
     "name": "stdout",
     "output_type": "stream",
     "text": [
      "Spiral\n",
      "/Users/maimulm2/Documents/UM/P1:P2/PyTorch Project/Main/testData/878_jpg.rf.6666f0869c99681256acc21d57affd99.jpg /Users/maimulm2/Documents/UM/P1:P2/PyTorch Project/Main/spiral/\n",
      "Spiral\n"
     ]
    },
    {
     "name": "stderr",
     "output_type": "stream",
     "text": [
      "image 1/1 /Users/maimulm2/Documents/UM/P1:P2/PyTorch Project/Main/testData/46624_jpg.rf.f5aee8687315328f6569b2d2e2ccb78d.jpg: 640x640 1 Spiral, 1438.3ms\n",
      "Speed: 1.5ms preprocess, 1438.3ms inference, 0.8ms postprocess per image at shape (1, 3, 640, 640)\n",
      "\n"
     ]
    },
    {
     "name": "stdout",
     "output_type": "stream",
     "text": [
      "Spiral\n",
      "/Users/maimulm2/Documents/UM/P1:P2/PyTorch Project/Main/testData/46624_jpg.rf.f5aee8687315328f6569b2d2e2ccb78d.jpg /Users/maimulm2/Documents/UM/P1:P2/PyTorch Project/Main/spiral/\n",
      "Spiral\n"
     ]
    },
    {
     "name": "stderr",
     "output_type": "stream",
     "text": [
      "image 1/1 /Users/maimulm2/Documents/UM/P1:P2/PyTorch Project/Main/testData/201644_jpg.rf.0ce88000a8b4ac7fb7cefc3f6ca546d6.jpg: 640x640 1 Spiral, 1103.7ms\n",
      "Speed: 1.5ms preprocess, 1103.7ms inference, 1.0ms postprocess per image at shape (1, 3, 640, 640)\n",
      "\n"
     ]
    },
    {
     "name": "stdout",
     "output_type": "stream",
     "text": [
      "Spiral\n",
      "/Users/maimulm2/Documents/UM/P1:P2/PyTorch Project/Main/testData/201644_jpg.rf.0ce88000a8b4ac7fb7cefc3f6ca546d6.jpg /Users/maimulm2/Documents/UM/P1:P2/PyTorch Project/Main/spiral/\n",
      "Spiral\n"
     ]
    },
    {
     "name": "stderr",
     "output_type": "stream",
     "text": [
      "image 1/1 /Users/maimulm2/Documents/UM/P1:P2/PyTorch Project/Main/testData/213470_jpg.rf.20f57c4db9c23be4f66d6c912961948f.jpg: 640x640 1 Spiral, 1256.2ms\n",
      "Speed: 1.7ms preprocess, 1256.2ms inference, 1.5ms postprocess per image at shape (1, 3, 640, 640)\n",
      "\n"
     ]
    },
    {
     "name": "stdout",
     "output_type": "stream",
     "text": [
      "Spiral\n",
      "/Users/maimulm2/Documents/UM/P1:P2/PyTorch Project/Main/testData/213470_jpg.rf.20f57c4db9c23be4f66d6c912961948f.jpg /Users/maimulm2/Documents/UM/P1:P2/PyTorch Project/Main/spiral/\n",
      "Spiral\n"
     ]
    },
    {
     "name": "stderr",
     "output_type": "stream",
     "text": [
      "image 1/1 /Users/maimulm2/Documents/UM/P1:P2/PyTorch Project/Main/testData/59257_jpg.rf.2f4f355fc22d133d166d10c1a4d200e0.jpg: 640x640 1 Spiral, 1108.2ms\n",
      "Speed: 1.9ms preprocess, 1108.2ms inference, 0.9ms postprocess per image at shape (1, 3, 640, 640)\n",
      "\n"
     ]
    },
    {
     "name": "stdout",
     "output_type": "stream",
     "text": [
      "Spiral\n",
      "/Users/maimulm2/Documents/UM/P1:P2/PyTorch Project/Main/testData/59257_jpg.rf.2f4f355fc22d133d166d10c1a4d200e0.jpg /Users/maimulm2/Documents/UM/P1:P2/PyTorch Project/Main/spiral/\n",
      "Spiral\n"
     ]
    },
    {
     "name": "stderr",
     "output_type": "stream",
     "text": [
      "image 1/1 /Users/maimulm2/Documents/UM/P1:P2/PyTorch Project/Main/testData/295290.jpg: 640x640 1 Elliptical, 1050.0ms\n",
      "Speed: 2.6ms preprocess, 1050.0ms inference, 0.8ms postprocess per image at shape (1, 3, 640, 640)\n",
      "\n"
     ]
    },
    {
     "name": "stdout",
     "output_type": "stream",
     "text": [
      "Elliptical\n",
      "/Users/maimulm2/Documents/UM/P1:P2/PyTorch Project/Main/testData/295290.jpg /Users/maimulm2/Documents/UM/P1:P2/PyTorch Project/Main/elliptical/\n",
      "Elliptical\n"
     ]
    },
    {
     "name": "stderr",
     "output_type": "stream",
     "text": [
      "image 1/1 /Users/maimulm2/Documents/UM/P1:P2/PyTorch Project/Main/testData/52767_jpg.rf.aebbfa94662e08fcd3d1aa8c08f793b0.jpg: 640x640 1 Spiral, 1251.4ms\n",
      "Speed: 44.6ms preprocess, 1251.4ms inference, 0.6ms postprocess per image at shape (1, 3, 640, 640)\n",
      "\n"
     ]
    },
    {
     "name": "stdout",
     "output_type": "stream",
     "text": [
      "Spiral\n",
      "/Users/maimulm2/Documents/UM/P1:P2/PyTorch Project/Main/testData/52767_jpg.rf.aebbfa94662e08fcd3d1aa8c08f793b0.jpg /Users/maimulm2/Documents/UM/P1:P2/PyTorch Project/Main/spiral/\n",
      "Spiral\n"
     ]
    },
    {
     "name": "stderr",
     "output_type": "stream",
     "text": [
      "image 1/1 /Users/maimulm2/Documents/UM/P1:P2/PyTorch Project/Main/testData/295253.jpg: 640x640 1 Elliptical, 1173.7ms\n",
      "Speed: 2.7ms preprocess, 1173.7ms inference, 0.8ms postprocess per image at shape (1, 3, 640, 640)\n",
      "\n"
     ]
    },
    {
     "name": "stdout",
     "output_type": "stream",
     "text": [
      "Elliptical\n",
      "/Users/maimulm2/Documents/UM/P1:P2/PyTorch Project/Main/testData/295253.jpg /Users/maimulm2/Documents/UM/P1:P2/PyTorch Project/Main/elliptical/\n",
      "Elliptical\n"
     ]
    },
    {
     "name": "stderr",
     "output_type": "stream",
     "text": [
      "image 1/1 /Users/maimulm2/Documents/UM/P1:P2/PyTorch Project/Main/testData/75354_jpg.rf.71174caaf723b996a8b4cebd80122e52.jpg: 640x640 1 Spiral, 1225.9ms\n",
      "Speed: 1.7ms preprocess, 1225.9ms inference, 0.7ms postprocess per image at shape (1, 3, 640, 640)\n",
      "\n"
     ]
    },
    {
     "name": "stdout",
     "output_type": "stream",
     "text": [
      "Spiral\n",
      "/Users/maimulm2/Documents/UM/P1:P2/PyTorch Project/Main/testData/75354_jpg.rf.71174caaf723b996a8b4cebd80122e52.jpg /Users/maimulm2/Documents/UM/P1:P2/PyTorch Project/Main/spiral/\n",
      "Spiral\n"
     ]
    },
    {
     "name": "stderr",
     "output_type": "stream",
     "text": [
      "image 1/1 /Users/maimulm2/Documents/UM/P1:P2/PyTorch Project/Main/testData/55658_jpg.rf.a4b6a383322599df65638d703044cada.jpg: 640x640 3 Spirals, 1232.8ms\n",
      "Speed: 1.6ms preprocess, 1232.8ms inference, 1.6ms postprocess per image at shape (1, 3, 640, 640)\n",
      "\n"
     ]
    },
    {
     "name": "stdout",
     "output_type": "stream",
     "text": [
      "Spiral\n",
      "/Users/maimulm2/Documents/UM/P1:P2/PyTorch Project/Main/testData/55658_jpg.rf.a4b6a383322599df65638d703044cada.jpg /Users/maimulm2/Documents/UM/P1:P2/PyTorch Project/Main/spiral/\n",
      "Spiral\n"
     ]
    },
    {
     "name": "stderr",
     "output_type": "stream",
     "text": [
      "image 1/1 /Users/maimulm2/Documents/UM/P1:P2/PyTorch Project/Main/testData/295291.jpg: 640x640 1 Spiral, 1433.4ms\n",
      "Speed: 3.2ms preprocess, 1433.4ms inference, 1.0ms postprocess per image at shape (1, 3, 640, 640)\n",
      "\n"
     ]
    },
    {
     "name": "stdout",
     "output_type": "stream",
     "text": [
      "Spiral\n",
      "/Users/maimulm2/Documents/UM/P1:P2/PyTorch Project/Main/testData/295291.jpg /Users/maimulm2/Documents/UM/P1:P2/PyTorch Project/Main/spiral/\n",
      "Spiral\n"
     ]
    },
    {
     "name": "stderr",
     "output_type": "stream",
     "text": [
      "image 1/1 /Users/maimulm2/Documents/UM/P1:P2/PyTorch Project/Main/testData/54838_jpg.rf.2183f510fb7a498751ac26cce785f9fb.jpg: 640x640 1 Spiral, 1116.8ms\n",
      "Speed: 1.2ms preprocess, 1116.8ms inference, 0.6ms postprocess per image at shape (1, 3, 640, 640)\n",
      "\n"
     ]
    },
    {
     "name": "stdout",
     "output_type": "stream",
     "text": [
      "Spiral\n",
      "/Users/maimulm2/Documents/UM/P1:P2/PyTorch Project/Main/testData/54838_jpg.rf.2183f510fb7a498751ac26cce785f9fb.jpg /Users/maimulm2/Documents/UM/P1:P2/PyTorch Project/Main/spiral/\n",
      "Spiral\n"
     ]
    },
    {
     "name": "stderr",
     "output_type": "stream",
     "text": [
      "image 1/1 /Users/maimulm2/Documents/UM/P1:P2/PyTorch Project/Main/testData/31094_jpg.rf.86bb2472bf09b9e57ddb73b263936db6.jpg: 640x640 1 Spiral, 1375.7ms\n",
      "Speed: 1.6ms preprocess, 1375.7ms inference, 1.3ms postprocess per image at shape (1, 3, 640, 640)\n",
      "\n"
     ]
    },
    {
     "name": "stdout",
     "output_type": "stream",
     "text": [
      "Spiral\n",
      "/Users/maimulm2/Documents/UM/P1:P2/PyTorch Project/Main/testData/31094_jpg.rf.86bb2472bf09b9e57ddb73b263936db6.jpg /Users/maimulm2/Documents/UM/P1:P2/PyTorch Project/Main/spiral/\n",
      "Spiral\n"
     ]
    },
    {
     "name": "stderr",
     "output_type": "stream",
     "text": [
      "image 1/1 /Users/maimulm2/Documents/UM/P1:P2/PyTorch Project/Main/testData/35259_jpg.rf.2efc7fbbfc7c014de3388d60d4777a0b.jpg: 640x640 1 Spiral, 1240.3ms\n",
      "Speed: 2.0ms preprocess, 1240.3ms inference, 0.8ms postprocess per image at shape (1, 3, 640, 640)\n",
      "\n"
     ]
    },
    {
     "name": "stdout",
     "output_type": "stream",
     "text": [
      "Spiral\n",
      "/Users/maimulm2/Documents/UM/P1:P2/PyTorch Project/Main/testData/35259_jpg.rf.2efc7fbbfc7c014de3388d60d4777a0b.jpg /Users/maimulm2/Documents/UM/P1:P2/PyTorch Project/Main/spiral/\n",
      "Spiral\n"
     ]
    },
    {
     "name": "stderr",
     "output_type": "stream",
     "text": [
      "image 1/1 /Users/maimulm2/Documents/UM/P1:P2/PyTorch Project/Main/testData/52345_jpg.rf.31fe9e33ee80d69d99774997beaa129c.jpg: 640x640 1 Spiral, 1565.4ms\n",
      "Speed: 1.7ms preprocess, 1565.4ms inference, 0.8ms postprocess per image at shape (1, 3, 640, 640)\n",
      "\n"
     ]
    },
    {
     "name": "stdout",
     "output_type": "stream",
     "text": [
      "Spiral\n",
      "/Users/maimulm2/Documents/UM/P1:P2/PyTorch Project/Main/testData/52345_jpg.rf.31fe9e33ee80d69d99774997beaa129c.jpg /Users/maimulm2/Documents/UM/P1:P2/PyTorch Project/Main/spiral/\n",
      "Spiral\n"
     ]
    },
    {
     "name": "stderr",
     "output_type": "stream",
     "text": [
      "image 1/1 /Users/maimulm2/Documents/UM/P1:P2/PyTorch Project/Main/testData/198098_jpg.rf.bcad6f9adbe9bd4d919254c8e867469c.jpg: 640x640 1 Elliptical, 1 Spiral, 1297.9ms\n",
      "Speed: 1.9ms preprocess, 1297.9ms inference, 1.5ms postprocess per image at shape (1, 3, 640, 640)\n",
      "\n"
     ]
    },
    {
     "name": "stdout",
     "output_type": "stream",
     "text": [
      "Spiral\n",
      "/Users/maimulm2/Documents/UM/P1:P2/PyTorch Project/Main/testData/198098_jpg.rf.bcad6f9adbe9bd4d919254c8e867469c.jpg /Users/maimulm2/Documents/UM/P1:P2/PyTorch Project/Main/spiral/\n",
      "Spiral\n"
     ]
    },
    {
     "name": "stderr",
     "output_type": "stream",
     "text": [
      "image 1/1 /Users/maimulm2/Documents/UM/P1:P2/PyTorch Project/Main/testData/52094_jpg.rf.4c0bc7282ac581a7b50db5864a944143.jpg: 640x640 1 Spiral, 1250.7ms\n",
      "Speed: 1.9ms preprocess, 1250.7ms inference, 0.9ms postprocess per image at shape (1, 3, 640, 640)\n",
      "\n"
     ]
    },
    {
     "name": "stdout",
     "output_type": "stream",
     "text": [
      "Spiral\n",
      "/Users/maimulm2/Documents/UM/P1:P2/PyTorch Project/Main/testData/52094_jpg.rf.4c0bc7282ac581a7b50db5864a944143.jpg /Users/maimulm2/Documents/UM/P1:P2/PyTorch Project/Main/spiral/\n",
      "Spiral\n"
     ]
    },
    {
     "name": "stderr",
     "output_type": "stream",
     "text": [
      "image 1/1 /Users/maimulm2/Documents/UM/P1:P2/PyTorch Project/Main/testData/58185_jpg.rf.3e2fe308d641d78d39360e0023cbbcb1.jpg: 640x640 1 Spiral, 1173.9ms\n",
      "Speed: 1.6ms preprocess, 1173.9ms inference, 1.1ms postprocess per image at shape (1, 3, 640, 640)\n",
      "\n"
     ]
    },
    {
     "name": "stdout",
     "output_type": "stream",
     "text": [
      "Spiral\n",
      "/Users/maimulm2/Documents/UM/P1:P2/PyTorch Project/Main/testData/58185_jpg.rf.3e2fe308d641d78d39360e0023cbbcb1.jpg /Users/maimulm2/Documents/UM/P1:P2/PyTorch Project/Main/spiral/\n",
      "Spiral\n"
     ]
    },
    {
     "name": "stderr",
     "output_type": "stream",
     "text": [
      "image 1/1 /Users/maimulm2/Documents/UM/P1:P2/PyTorch Project/Main/testData/160296_jpg.rf.4a036aafd9fcb196aea1497ee42b1e75.jpg: 640x640 2 Spirals, 1158.8ms\n",
      "Speed: 1.6ms preprocess, 1158.8ms inference, 0.6ms postprocess per image at shape (1, 3, 640, 640)\n",
      "\n"
     ]
    },
    {
     "name": "stdout",
     "output_type": "stream",
     "text": [
      "Spiral\n",
      "/Users/maimulm2/Documents/UM/P1:P2/PyTorch Project/Main/testData/160296_jpg.rf.4a036aafd9fcb196aea1497ee42b1e75.jpg /Users/maimulm2/Documents/UM/P1:P2/PyTorch Project/Main/spiral/\n",
      "Spiral\n"
     ]
    },
    {
     "name": "stderr",
     "output_type": "stream",
     "text": [
      "image 1/1 /Users/maimulm2/Documents/UM/P1:P2/PyTorch Project/Main/testData/295295.jpg: 640x640 1 Elliptical, 1451.2ms\n",
      "Speed: 2.8ms preprocess, 1451.2ms inference, 0.8ms postprocess per image at shape (1, 3, 640, 640)\n",
      "\n"
     ]
    },
    {
     "name": "stdout",
     "output_type": "stream",
     "text": [
      "Elliptical\n",
      "/Users/maimulm2/Documents/UM/P1:P2/PyTorch Project/Main/testData/295295.jpg /Users/maimulm2/Documents/UM/P1:P2/PyTorch Project/Main/elliptical/\n",
      "Elliptical\n"
     ]
    },
    {
     "name": "stderr",
     "output_type": "stream",
     "text": [
      "image 1/1 /Users/maimulm2/Documents/UM/P1:P2/PyTorch Project/Main/testData/295256.jpg: 640x640 1 Spiral, 1313.1ms\n",
      "Speed: 3.5ms preprocess, 1313.1ms inference, 0.8ms postprocess per image at shape (1, 3, 640, 640)\n",
      "\n"
     ]
    },
    {
     "name": "stdout",
     "output_type": "stream",
     "text": [
      "Spiral\n",
      "/Users/maimulm2/Documents/UM/P1:P2/PyTorch Project/Main/testData/295256.jpg /Users/maimulm2/Documents/UM/P1:P2/PyTorch Project/Main/spiral/\n",
      "Spiral\n"
     ]
    },
    {
     "name": "stderr",
     "output_type": "stream",
     "text": [
      "image 1/1 /Users/maimulm2/Documents/UM/P1:P2/PyTorch Project/Main/testData/295242.jpg: 640x640 1 Elliptical, 1333.4ms\n",
      "Speed: 2.6ms preprocess, 1333.4ms inference, 0.9ms postprocess per image at shape (1, 3, 640, 640)\n",
      "\n"
     ]
    },
    {
     "name": "stdout",
     "output_type": "stream",
     "text": [
      "Elliptical\n",
      "/Users/maimulm2/Documents/UM/P1:P2/PyTorch Project/Main/testData/295242.jpg /Users/maimulm2/Documents/UM/P1:P2/PyTorch Project/Main/elliptical/\n",
      "Elliptical\n"
     ]
    },
    {
     "name": "stderr",
     "output_type": "stream",
     "text": [
      "image 1/1 /Users/maimulm2/Documents/UM/P1:P2/PyTorch Project/Main/testData/124690_jpg.rf.54d0dbdfd31801d6ce4d7a146cbd29c4.jpg: 640x640 1 Spiral, 1464.4ms\n",
      "Speed: 1.9ms preprocess, 1464.4ms inference, 1.1ms postprocess per image at shape (1, 3, 640, 640)\n",
      "\n"
     ]
    },
    {
     "name": "stdout",
     "output_type": "stream",
     "text": [
      "Spiral\n",
      "/Users/maimulm2/Documents/UM/P1:P2/PyTorch Project/Main/testData/124690_jpg.rf.54d0dbdfd31801d6ce4d7a146cbd29c4.jpg /Users/maimulm2/Documents/UM/P1:P2/PyTorch Project/Main/spiral/\n",
      "Spiral\n"
     ]
    },
    {
     "name": "stderr",
     "output_type": "stream",
     "text": [
      "image 1/1 /Users/maimulm2/Documents/UM/P1:P2/PyTorch Project/Main/testData/220385_jpg.rf.5eb25c8816f74c0c62b02ed2cd3ea75d.jpg: 640x640 1 Spiral, 1209.0ms\n",
      "Speed: 1.4ms preprocess, 1209.0ms inference, 0.8ms postprocess per image at shape (1, 3, 640, 640)\n",
      "\n"
     ]
    },
    {
     "name": "stdout",
     "output_type": "stream",
     "text": [
      "Spiral\n",
      "/Users/maimulm2/Documents/UM/P1:P2/PyTorch Project/Main/testData/220385_jpg.rf.5eb25c8816f74c0c62b02ed2cd3ea75d.jpg /Users/maimulm2/Documents/UM/P1:P2/PyTorch Project/Main/spiral/\n",
      "Spiral\n"
     ]
    },
    {
     "name": "stderr",
     "output_type": "stream",
     "text": [
      "image 1/1 /Users/maimulm2/Documents/UM/P1:P2/PyTorch Project/Main/testData/54359_jpg.rf.873a9bdba4130a7ac50c9f23683aa4c5.jpg: 640x640 1 Elliptical, 1355.9ms\n",
      "Speed: 1.8ms preprocess, 1355.9ms inference, 1.3ms postprocess per image at shape (1, 3, 640, 640)\n",
      "\n"
     ]
    },
    {
     "name": "stdout",
     "output_type": "stream",
     "text": [
      "Elliptical\n",
      "/Users/maimulm2/Documents/UM/P1:P2/PyTorch Project/Main/testData/54359_jpg.rf.873a9bdba4130a7ac50c9f23683aa4c5.jpg /Users/maimulm2/Documents/UM/P1:P2/PyTorch Project/Main/elliptical/\n",
      "Elliptical\n"
     ]
    },
    {
     "name": "stderr",
     "output_type": "stream",
     "text": [
      "image 1/1 /Users/maimulm2/Documents/UM/P1:P2/PyTorch Project/Main/testData/295243.jpg: 640x640 1 Elliptical, 1 Spiral, 1365.0ms\n",
      "Speed: 4.3ms preprocess, 1365.0ms inference, 1.3ms postprocess per image at shape (1, 3, 640, 640)\n",
      "\n"
     ]
    },
    {
     "name": "stdout",
     "output_type": "stream",
     "text": [
      "Spiral\n",
      "/Users/maimulm2/Documents/UM/P1:P2/PyTorch Project/Main/testData/295243.jpg /Users/maimulm2/Documents/UM/P1:P2/PyTorch Project/Main/spiral/\n",
      "Spiral\n"
     ]
    },
    {
     "name": "stderr",
     "output_type": "stream",
     "text": [
      "image 1/1 /Users/maimulm2/Documents/UM/P1:P2/PyTorch Project/Main/testData/70799_jpg.rf.63287e029f92e22d497e097efa3ec024.jpg: 640x640 1 Spiral, 1548.0ms\n",
      "Speed: 1.8ms preprocess, 1548.0ms inference, 1.2ms postprocess per image at shape (1, 3, 640, 640)\n",
      "\n"
     ]
    },
    {
     "name": "stdout",
     "output_type": "stream",
     "text": [
      "Spiral\n",
      "/Users/maimulm2/Documents/UM/P1:P2/PyTorch Project/Main/testData/70799_jpg.rf.63287e029f92e22d497e097efa3ec024.jpg /Users/maimulm2/Documents/UM/P1:P2/PyTorch Project/Main/spiral/\n",
      "Spiral\n"
     ]
    },
    {
     "name": "stderr",
     "output_type": "stream",
     "text": [
      "image 1/1 /Users/maimulm2/Documents/UM/P1:P2/PyTorch Project/Main/testData/295280.jpg: 640x640 1 Elliptical, 1295.6ms\n",
      "Speed: 3.4ms preprocess, 1295.6ms inference, 1.4ms postprocess per image at shape (1, 3, 640, 640)\n",
      "\n"
     ]
    },
    {
     "name": "stdout",
     "output_type": "stream",
     "text": [
      "Elliptical\n",
      "/Users/maimulm2/Documents/UM/P1:P2/PyTorch Project/Main/testData/295280.jpg /Users/maimulm2/Documents/UM/P1:P2/PyTorch Project/Main/elliptical/\n",
      "Elliptical\n"
     ]
    },
    {
     "name": "stderr",
     "output_type": "stream",
     "text": [
      "image 1/1 /Users/maimulm2/Documents/UM/P1:P2/PyTorch Project/Main/testData/295294.jpg: 640x640 1 Spiral, 1379.2ms\n",
      "Speed: 3.3ms preprocess, 1379.2ms inference, 0.8ms postprocess per image at shape (1, 3, 640, 640)\n",
      "\n"
     ]
    },
    {
     "name": "stdout",
     "output_type": "stream",
     "text": [
      "Spiral\n",
      "/Users/maimulm2/Documents/UM/P1:P2/PyTorch Project/Main/testData/295294.jpg /Users/maimulm2/Documents/UM/P1:P2/PyTorch Project/Main/spiral/\n",
      "Spiral\n"
     ]
    },
    {
     "name": "stderr",
     "output_type": "stream",
     "text": [
      "image 1/1 /Users/maimulm2/Documents/UM/P1:P2/PyTorch Project/Main/testData/50725_jpg.rf.7199d71d771823ef28178600afb19495.jpg: 640x640 1 Spiral, 1780.8ms\n",
      "Speed: 1.9ms preprocess, 1780.8ms inference, 5.0ms postprocess per image at shape (1, 3, 640, 640)\n",
      "\n"
     ]
    },
    {
     "name": "stdout",
     "output_type": "stream",
     "text": [
      "Spiral\n",
      "/Users/maimulm2/Documents/UM/P1:P2/PyTorch Project/Main/testData/50725_jpg.rf.7199d71d771823ef28178600afb19495.jpg /Users/maimulm2/Documents/UM/P1:P2/PyTorch Project/Main/spiral/\n",
      "Spiral\n"
     ]
    },
    {
     "name": "stderr",
     "output_type": "stream",
     "text": [
      "image 1/1 /Users/maimulm2/Documents/UM/P1:P2/PyTorch Project/Main/testData/27067_jpg.rf.f87288d384bf38eb1cfbcc95a25c112c.jpg: 640x640 1 Spiral, 1294.2ms\n",
      "Speed: 2.1ms preprocess, 1294.2ms inference, 0.8ms postprocess per image at shape (1, 3, 640, 640)\n",
      "\n"
     ]
    },
    {
     "name": "stdout",
     "output_type": "stream",
     "text": [
      "Spiral\n",
      "/Users/maimulm2/Documents/UM/P1:P2/PyTorch Project/Main/testData/27067_jpg.rf.f87288d384bf38eb1cfbcc95a25c112c.jpg /Users/maimulm2/Documents/UM/P1:P2/PyTorch Project/Main/spiral/\n",
      "Spiral\n"
     ]
    },
    {
     "name": "stderr",
     "output_type": "stream",
     "text": [
      "image 1/1 /Users/maimulm2/Documents/UM/P1:P2/PyTorch Project/Main/testData/45911_jpg.rf.dfba33f2e2cb3eb75d7fef8f526d4205.jpg: 640x640 1 Elliptical, 2 Spirals, 1378.1ms\n",
      "Speed: 1.8ms preprocess, 1378.1ms inference, 1.0ms postprocess per image at shape (1, 3, 640, 640)\n",
      "\n"
     ]
    },
    {
     "name": "stdout",
     "output_type": "stream",
     "text": [
      "Spiral\n",
      "/Users/maimulm2/Documents/UM/P1:P2/PyTorch Project/Main/testData/45911_jpg.rf.dfba33f2e2cb3eb75d7fef8f526d4205.jpg /Users/maimulm2/Documents/UM/P1:P2/PyTorch Project/Main/spiral/\n",
      "Spiral\n"
     ]
    },
    {
     "name": "stderr",
     "output_type": "stream",
     "text": [
      "image 1/1 /Users/maimulm2/Documents/UM/P1:P2/PyTorch Project/Main/testData/69888_jpg.rf.1fa4dc9cc448cfb761fbbb35518830b9.jpg: 640x640 1 Spiral, 1454.8ms\n",
      "Speed: 2.0ms preprocess, 1454.8ms inference, 2.7ms postprocess per image at shape (1, 3, 640, 640)\n",
      "\n"
     ]
    },
    {
     "name": "stdout",
     "output_type": "stream",
     "text": [
      "Spiral\n",
      "/Users/maimulm2/Documents/UM/P1:P2/PyTorch Project/Main/testData/69888_jpg.rf.1fa4dc9cc448cfb761fbbb35518830b9.jpg /Users/maimulm2/Documents/UM/P1:P2/PyTorch Project/Main/spiral/\n",
      "Spiral\n"
     ]
    },
    {
     "name": "stderr",
     "output_type": "stream",
     "text": [
      "image 1/1 /Users/maimulm2/Documents/UM/P1:P2/PyTorch Project/Main/testData/77_jpg.rf.24065a8908730eb2f64a3ea493cafe94.jpg: 640x640 1 Spiral, 1674.8ms\n",
      "Speed: 2.9ms preprocess, 1674.8ms inference, 0.8ms postprocess per image at shape (1, 3, 640, 640)\n",
      "\n"
     ]
    },
    {
     "name": "stdout",
     "output_type": "stream",
     "text": [
      "Spiral\n",
      "/Users/maimulm2/Documents/UM/P1:P2/PyTorch Project/Main/testData/77_jpg.rf.24065a8908730eb2f64a3ea493cafe94.jpg /Users/maimulm2/Documents/UM/P1:P2/PyTorch Project/Main/spiral/\n",
      "Spiral\n"
     ]
    },
    {
     "name": "stderr",
     "output_type": "stream",
     "text": [
      "image 1/1 /Users/maimulm2/Documents/UM/P1:P2/PyTorch Project/Main/testData/13887_jpg.rf.30af0c3c6f6bc486a973ffb12c2d97ae.jpg: 640x640 1 Spiral, 1225.5ms\n",
      "Speed: 1.9ms preprocess, 1225.5ms inference, 0.9ms postprocess per image at shape (1, 3, 640, 640)\n",
      "\n"
     ]
    },
    {
     "name": "stdout",
     "output_type": "stream",
     "text": [
      "Spiral\n",
      "/Users/maimulm2/Documents/UM/P1:P2/PyTorch Project/Main/testData/13887_jpg.rf.30af0c3c6f6bc486a973ffb12c2d97ae.jpg /Users/maimulm2/Documents/UM/P1:P2/PyTorch Project/Main/spiral/\n",
      "Spiral\n"
     ]
    },
    {
     "name": "stderr",
     "output_type": "stream",
     "text": [
      "image 1/1 /Users/maimulm2/Documents/UM/P1:P2/PyTorch Project/Main/testData/14782_jpg.rf.0cd2125f0343376ef691425a71657540.jpg: 640x640 2 Spirals, 1514.3ms\n",
      "Speed: 1.8ms preprocess, 1514.3ms inference, 2.3ms postprocess per image at shape (1, 3, 640, 640)\n",
      "\n"
     ]
    },
    {
     "name": "stdout",
     "output_type": "stream",
     "text": [
      "Spiral\n",
      "/Users/maimulm2/Documents/UM/P1:P2/PyTorch Project/Main/testData/14782_jpg.rf.0cd2125f0343376ef691425a71657540.jpg /Users/maimulm2/Documents/UM/P1:P2/PyTorch Project/Main/spiral/\n",
      "Spiral\n"
     ]
    },
    {
     "name": "stderr",
     "output_type": "stream",
     "text": [
      "image 1/1 /Users/maimulm2/Documents/UM/P1:P2/PyTorch Project/Main/testData/1324_jpg.rf.0f61e3a5dcf7e275432cbc6ad4d27a0d.jpg: 640x640 1 Spiral, 1309.4ms\n",
      "Speed: 2.9ms preprocess, 1309.4ms inference, 0.8ms postprocess per image at shape (1, 3, 640, 640)\n",
      "\n"
     ]
    },
    {
     "name": "stdout",
     "output_type": "stream",
     "text": [
      "Spiral\n",
      "/Users/maimulm2/Documents/UM/P1:P2/PyTorch Project/Main/testData/1324_jpg.rf.0f61e3a5dcf7e275432cbc6ad4d27a0d.jpg /Users/maimulm2/Documents/UM/P1:P2/PyTorch Project/Main/spiral/\n",
      "Spiral\n"
     ]
    },
    {
     "name": "stderr",
     "output_type": "stream",
     "text": [
      "image 1/1 /Users/maimulm2/Documents/UM/P1:P2/PyTorch Project/Main/testData/295296.jpg: 640x640 1 Elliptical, 1486.7ms\n",
      "Speed: 4.3ms preprocess, 1486.7ms inference, 1.1ms postprocess per image at shape (1, 3, 640, 640)\n",
      "\n"
     ]
    },
    {
     "name": "stdout",
     "output_type": "stream",
     "text": [
      "Elliptical\n",
      "/Users/maimulm2/Documents/UM/P1:P2/PyTorch Project/Main/testData/295296.jpg /Users/maimulm2/Documents/UM/P1:P2/PyTorch Project/Main/elliptical/\n",
      "Elliptical\n"
     ]
    },
    {
     "name": "stderr",
     "output_type": "stream",
     "text": [
      "image 1/1 /Users/maimulm2/Documents/UM/P1:P2/PyTorch Project/Main/testData/33126_jpg.rf.242e36b81954f48219e98e56cc25636c.jpg: 640x640 1 Spiral, 1413.8ms\n",
      "Speed: 2.0ms preprocess, 1413.8ms inference, 1.0ms postprocess per image at shape (1, 3, 640, 640)\n",
      "\n"
     ]
    },
    {
     "name": "stdout",
     "output_type": "stream",
     "text": [
      "Spiral\n",
      "/Users/maimulm2/Documents/UM/P1:P2/PyTorch Project/Main/testData/33126_jpg.rf.242e36b81954f48219e98e56cc25636c.jpg /Users/maimulm2/Documents/UM/P1:P2/PyTorch Project/Main/spiral/\n",
      "Spiral\n"
     ]
    },
    {
     "name": "stderr",
     "output_type": "stream",
     "text": [
      "image 1/1 /Users/maimulm2/Documents/UM/P1:P2/PyTorch Project/Main/testData/24811_jpg.rf.48f64a7e1143ea9b52ff6e13a433ac89.jpg: 640x640 3 Spirals, 1378.1ms\n",
      "Speed: 8.2ms preprocess, 1378.1ms inference, 1.3ms postprocess per image at shape (1, 3, 640, 640)\n",
      "\n"
     ]
    },
    {
     "name": "stdout",
     "output_type": "stream",
     "text": [
      "Spiral\n",
      "/Users/maimulm2/Documents/UM/P1:P2/PyTorch Project/Main/testData/24811_jpg.rf.48f64a7e1143ea9b52ff6e13a433ac89.jpg /Users/maimulm2/Documents/UM/P1:P2/PyTorch Project/Main/spiral/\n",
      "Spiral\n"
     ]
    },
    {
     "name": "stderr",
     "output_type": "stream",
     "text": [
      "image 1/1 /Users/maimulm2/Documents/UM/P1:P2/PyTorch Project/Main/testData/295269.jpg: 640x640 1 Elliptical, 1353.8ms\n",
      "Speed: 3.7ms preprocess, 1353.8ms inference, 1.3ms postprocess per image at shape (1, 3, 640, 640)\n",
      "\n"
     ]
    },
    {
     "name": "stdout",
     "output_type": "stream",
     "text": [
      "Elliptical\n",
      "/Users/maimulm2/Documents/UM/P1:P2/PyTorch Project/Main/testData/295269.jpg /Users/maimulm2/Documents/UM/P1:P2/PyTorch Project/Main/elliptical/\n",
      "Elliptical\n"
     ]
    },
    {
     "name": "stderr",
     "output_type": "stream",
     "text": [
      "image 1/1 /Users/maimulm2/Documents/UM/P1:P2/PyTorch Project/Main/testData/295240.jpg: 640x640 1 Elliptical, 1326.6ms\n",
      "Speed: 3.2ms preprocess, 1326.6ms inference, 0.7ms postprocess per image at shape (1, 3, 640, 640)\n",
      "\n"
     ]
    },
    {
     "name": "stdout",
     "output_type": "stream",
     "text": [
      "Elliptical\n",
      "/Users/maimulm2/Documents/UM/P1:P2/PyTorch Project/Main/testData/295240.jpg /Users/maimulm2/Documents/UM/P1:P2/PyTorch Project/Main/elliptical/\n",
      "Elliptical\n"
     ]
    },
    {
     "name": "stderr",
     "output_type": "stream",
     "text": [
      "image 1/1 /Users/maimulm2/Documents/UM/P1:P2/PyTorch Project/Main/testData/37817_jpg.rf.b4d2cee7d31e2337d66b9eb303a3cf33.jpg: 640x640 1 Spiral, 1744.1ms\n",
      "Speed: 1.9ms preprocess, 1744.1ms inference, 1.5ms postprocess per image at shape (1, 3, 640, 640)\n",
      "\n"
     ]
    },
    {
     "name": "stdout",
     "output_type": "stream",
     "text": [
      "Spiral\n",
      "/Users/maimulm2/Documents/UM/P1:P2/PyTorch Project/Main/testData/37817_jpg.rf.b4d2cee7d31e2337d66b9eb303a3cf33.jpg /Users/maimulm2/Documents/UM/P1:P2/PyTorch Project/Main/spiral/\n",
      "Spiral\n"
     ]
    },
    {
     "name": "stderr",
     "output_type": "stream",
     "text": [
      "image 1/1 /Users/maimulm2/Documents/UM/P1:P2/PyTorch Project/Main/testData/49304_jpg.rf.360d2475b7104c54faa7c0ec2ec0b42a.jpg: 640x640 1 Spiral, 1177.8ms\n",
      "Speed: 7.8ms preprocess, 1177.8ms inference, 1.8ms postprocess per image at shape (1, 3, 640, 640)\n",
      "\n"
     ]
    },
    {
     "name": "stdout",
     "output_type": "stream",
     "text": [
      "Spiral\n",
      "/Users/maimulm2/Documents/UM/P1:P2/PyTorch Project/Main/testData/49304_jpg.rf.360d2475b7104c54faa7c0ec2ec0b42a.jpg /Users/maimulm2/Documents/UM/P1:P2/PyTorch Project/Main/spiral/\n",
      "Spiral\n"
     ]
    },
    {
     "name": "stderr",
     "output_type": "stream",
     "text": [
      "image 1/1 /Users/maimulm2/Documents/UM/P1:P2/PyTorch Project/Main/testData/295283.jpg: 640x640 1 Spiral, 1173.3ms\n",
      "Speed: 3.3ms preprocess, 1173.3ms inference, 0.7ms postprocess per image at shape (1, 3, 640, 640)\n",
      "\n"
     ]
    },
    {
     "name": "stdout",
     "output_type": "stream",
     "text": [
      "Spiral\n",
      "/Users/maimulm2/Documents/UM/P1:P2/PyTorch Project/Main/testData/295283.jpg /Users/maimulm2/Documents/UM/P1:P2/PyTorch Project/Main/spiral/\n",
      "Spiral\n"
     ]
    },
    {
     "name": "stderr",
     "output_type": "stream",
     "text": [
      "image 1/1 /Users/maimulm2/Documents/UM/P1:P2/PyTorch Project/Main/testData/50695_jpg.rf.f420b88f8b0eb2087b9d866a07759509.jpg: 640x640 1 Spiral, 1562.2ms\n",
      "Speed: 1.9ms preprocess, 1562.2ms inference, 2.3ms postprocess per image at shape (1, 3, 640, 640)\n",
      "\n"
     ]
    },
    {
     "name": "stdout",
     "output_type": "stream",
     "text": [
      "Spiral\n",
      "/Users/maimulm2/Documents/UM/P1:P2/PyTorch Project/Main/testData/50695_jpg.rf.f420b88f8b0eb2087b9d866a07759509.jpg /Users/maimulm2/Documents/UM/P1:P2/PyTorch Project/Main/spiral/\n",
      "Spiral\n"
     ]
    },
    {
     "name": "stderr",
     "output_type": "stream",
     "text": [
      "image 1/1 /Users/maimulm2/Documents/UM/P1:P2/PyTorch Project/Main/testData/205044_jpg.rf.bdabcb39077b34be2d60ee7842fbb757.jpg: 640x640 1 Spiral, 1505.6ms\n",
      "Speed: 1.9ms preprocess, 1505.6ms inference, 1.6ms postprocess per image at shape (1, 3, 640, 640)\n",
      "\n"
     ]
    },
    {
     "name": "stdout",
     "output_type": "stream",
     "text": [
      "Spiral\n",
      "/Users/maimulm2/Documents/UM/P1:P2/PyTorch Project/Main/testData/205044_jpg.rf.bdabcb39077b34be2d60ee7842fbb757.jpg /Users/maimulm2/Documents/UM/P1:P2/PyTorch Project/Main/spiral/\n",
      "Spiral\n"
     ]
    },
    {
     "name": "stderr",
     "output_type": "stream",
     "text": [
      "image 1/1 /Users/maimulm2/Documents/UM/P1:P2/PyTorch Project/Main/testData/63412_jpg.rf.18bb6c01e012c01b51aebc25477740ca.jpg: 640x640 1 Spiral, 1195.6ms\n",
      "Speed: 1.9ms preprocess, 1195.6ms inference, 1.4ms postprocess per image at shape (1, 3, 640, 640)\n",
      "\n"
     ]
    },
    {
     "name": "stdout",
     "output_type": "stream",
     "text": [
      "Spiral\n",
      "/Users/maimulm2/Documents/UM/P1:P2/PyTorch Project/Main/testData/63412_jpg.rf.18bb6c01e012c01b51aebc25477740ca.jpg /Users/maimulm2/Documents/UM/P1:P2/PyTorch Project/Main/spiral/\n",
      "Spiral\n"
     ]
    },
    {
     "name": "stderr",
     "output_type": "stream",
     "text": [
      "image 1/1 /Users/maimulm2/Documents/UM/P1:P2/PyTorch Project/Main/testData/10545_jpg.rf.3d32c0a09e1e51431f8fa425bf737b37.jpg: 640x640 1 Spiral, 1618.2ms\n",
      "Speed: 1.9ms preprocess, 1618.2ms inference, 1.5ms postprocess per image at shape (1, 3, 640, 640)\n",
      "\n"
     ]
    },
    {
     "name": "stdout",
     "output_type": "stream",
     "text": [
      "Spiral\n",
      "/Users/maimulm2/Documents/UM/P1:P2/PyTorch Project/Main/testData/10545_jpg.rf.3d32c0a09e1e51431f8fa425bf737b37.jpg /Users/maimulm2/Documents/UM/P1:P2/PyTorch Project/Main/spiral/\n",
      "Spiral\n"
     ]
    },
    {
     "name": "stderr",
     "output_type": "stream",
     "text": [
      "image 1/1 /Users/maimulm2/Documents/UM/P1:P2/PyTorch Project/Main/testData/46358_jpg.rf.135c9ffa52505591573b0090a882e323.jpg: 640x640 1 Spiral, 1773.4ms\n",
      "Speed: 1.9ms preprocess, 1773.4ms inference, 3.3ms postprocess per image at shape (1, 3, 640, 640)\n",
      "\n"
     ]
    },
    {
     "name": "stdout",
     "output_type": "stream",
     "text": [
      "Spiral\n",
      "/Users/maimulm2/Documents/UM/P1:P2/PyTorch Project/Main/testData/46358_jpg.rf.135c9ffa52505591573b0090a882e323.jpg /Users/maimulm2/Documents/UM/P1:P2/PyTorch Project/Main/spiral/\n",
      "Spiral\n"
     ]
    },
    {
     "name": "stderr",
     "output_type": "stream",
     "text": [
      "image 1/1 /Users/maimulm2/Documents/UM/P1:P2/PyTorch Project/Main/testData/45628_jpg.rf.9f0ffeb3a75ecb636c483a17cea1e30d.jpg: 640x640 (no detections), 1389.2ms\n",
      "Speed: 2.1ms preprocess, 1389.2ms inference, 1.4ms postprocess per image at shape (1, 3, 640, 640)\n",
      "\n"
     ]
    },
    {
     "name": "stdout",
     "output_type": "stream",
     "text": [
      "list index out of range\n"
     ]
    },
    {
     "name": "stderr",
     "output_type": "stream",
     "text": [
      "image 1/1 /Users/maimulm2/Documents/UM/P1:P2/PyTorch Project/Main/testData/295145.jpg: 640x640 1 Elliptical, 1538.9ms\n",
      "Speed: 3.1ms preprocess, 1538.9ms inference, 1.7ms postprocess per image at shape (1, 3, 640, 640)\n",
      "\n"
     ]
    },
    {
     "name": "stdout",
     "output_type": "stream",
     "text": [
      "Elliptical\n",
      "/Users/maimulm2/Documents/UM/P1:P2/PyTorch Project/Main/testData/295145.jpg /Users/maimulm2/Documents/UM/P1:P2/PyTorch Project/Main/elliptical/\n",
      "Elliptical\n"
     ]
    },
    {
     "name": "stderr",
     "output_type": "stream",
     "text": [
      "image 1/1 /Users/maimulm2/Documents/UM/P1:P2/PyTorch Project/Main/testData/295232.jpg: 640x640 1 Elliptical, 1347.6ms\n",
      "Speed: 4.8ms preprocess, 1347.6ms inference, 0.9ms postprocess per image at shape (1, 3, 640, 640)\n",
      "\n"
     ]
    },
    {
     "name": "stdout",
     "output_type": "stream",
     "text": [
      "Elliptical\n",
      "/Users/maimulm2/Documents/UM/P1:P2/PyTorch Project/Main/testData/295232.jpg /Users/maimulm2/Documents/UM/P1:P2/PyTorch Project/Main/elliptical/\n",
      "Elliptical\n"
     ]
    },
    {
     "name": "stderr",
     "output_type": "stream",
     "text": [
      "image 1/1 /Users/maimulm2/Documents/UM/P1:P2/PyTorch Project/Main/testData/295226.jpg: 640x640 2 Ellipticals, 1957.2ms\n",
      "Speed: 3.3ms preprocess, 1957.2ms inference, 3.1ms postprocess per image at shape (1, 3, 640, 640)\n",
      "\n"
     ]
    },
    {
     "name": "stdout",
     "output_type": "stream",
     "text": [
      "Elliptical\n",
      "/Users/maimulm2/Documents/UM/P1:P2/PyTorch Project/Main/testData/295226.jpg /Users/maimulm2/Documents/UM/P1:P2/PyTorch Project/Main/elliptical/\n",
      "Elliptical\n"
     ]
    },
    {
     "name": "stderr",
     "output_type": "stream",
     "text": [
      "image 1/1 /Users/maimulm2/Documents/UM/P1:P2/PyTorch Project/Main/testData/98611_jpg.rf.aadd903986a9df838fa0047d0e86a2cb.jpg: 640x640 1 Spiral, 1514.3ms\n",
      "Speed: 3.8ms preprocess, 1514.3ms inference, 1.1ms postprocess per image at shape (1, 3, 640, 640)\n",
      "\n"
     ]
    },
    {
     "name": "stdout",
     "output_type": "stream",
     "text": [
      "Spiral\n",
      "/Users/maimulm2/Documents/UM/P1:P2/PyTorch Project/Main/testData/98611_jpg.rf.aadd903986a9df838fa0047d0e86a2cb.jpg /Users/maimulm2/Documents/UM/P1:P2/PyTorch Project/Main/spiral/\n",
      "Spiral\n"
     ]
    },
    {
     "name": "stderr",
     "output_type": "stream",
     "text": [
      "image 1/1 /Users/maimulm2/Documents/UM/P1:P2/PyTorch Project/Main/testData/284426_jpg.rf.c092521174551ea57997af3ee9afaf2f.jpg: 640x640 1 Spiral, 1387.0ms\n",
      "Speed: 1.9ms preprocess, 1387.0ms inference, 0.8ms postprocess per image at shape (1, 3, 640, 640)\n",
      "\n"
     ]
    },
    {
     "name": "stdout",
     "output_type": "stream",
     "text": [
      "Spiral\n",
      "/Users/maimulm2/Documents/UM/P1:P2/PyTorch Project/Main/testData/284426_jpg.rf.c092521174551ea57997af3ee9afaf2f.jpg /Users/maimulm2/Documents/UM/P1:P2/PyTorch Project/Main/spiral/\n",
      "Spiral\n"
     ]
    },
    {
     "name": "stderr",
     "output_type": "stream",
     "text": [
      "image 1/1 /Users/maimulm2/Documents/UM/P1:P2/PyTorch Project/Main/testData/241288_jpg.rf.f369b09072c3631d43c2d5491fdd12eb.jpg: 640x640 2 Spirals, 1707.9ms\n",
      "Speed: 1.7ms preprocess, 1707.9ms inference, 1.0ms postprocess per image at shape (1, 3, 640, 640)\n",
      "\n"
     ]
    },
    {
     "name": "stdout",
     "output_type": "stream",
     "text": [
      "Spiral\n",
      "/Users/maimulm2/Documents/UM/P1:P2/PyTorch Project/Main/testData/241288_jpg.rf.f369b09072c3631d43c2d5491fdd12eb.jpg /Users/maimulm2/Documents/UM/P1:P2/PyTorch Project/Main/spiral/\n",
      "Spiral\n"
     ]
    },
    {
     "name": "stderr",
     "output_type": "stream",
     "text": [
      "image 1/1 /Users/maimulm2/Documents/UM/P1:P2/PyTorch Project/Main/testData/64074_jpg.rf.4363065f92248200092390d80b04a0c7.jpg: 640x640 2 Spirals, 1210.5ms\n",
      "Speed: 2.2ms preprocess, 1210.5ms inference, 1.7ms postprocess per image at shape (1, 3, 640, 640)\n",
      "\n"
     ]
    },
    {
     "name": "stdout",
     "output_type": "stream",
     "text": [
      "Spiral\n",
      "/Users/maimulm2/Documents/UM/P1:P2/PyTorch Project/Main/testData/64074_jpg.rf.4363065f92248200092390d80b04a0c7.jpg /Users/maimulm2/Documents/UM/P1:P2/PyTorch Project/Main/spiral/\n",
      "Spiral\n"
     ]
    },
    {
     "name": "stderr",
     "output_type": "stream",
     "text": [
      "image 1/1 /Users/maimulm2/Documents/UM/P1:P2/PyTorch Project/Main/testData/295187.jpg: 640x640 (no detections), 1430.9ms\n",
      "Speed: 3.3ms preprocess, 1430.9ms inference, 0.9ms postprocess per image at shape (1, 3, 640, 640)\n",
      "\n"
     ]
    },
    {
     "name": "stdout",
     "output_type": "stream",
     "text": [
      "list index out of range\n"
     ]
    },
    {
     "name": "stderr",
     "output_type": "stream",
     "text": [
      "image 1/1 /Users/maimulm2/Documents/UM/P1:P2/PyTorch Project/Main/testData/25974_jpg.rf.ebfd4c43df20e17ea1f16fc66ce282f9.jpg: 640x640 1 Spiral, 1653.2ms\n",
      "Speed: 2.0ms preprocess, 1653.2ms inference, 0.9ms postprocess per image at shape (1, 3, 640, 640)\n",
      "\n"
     ]
    },
    {
     "name": "stdout",
     "output_type": "stream",
     "text": [
      "Spiral\n",
      "/Users/maimulm2/Documents/UM/P1:P2/PyTorch Project/Main/testData/25974_jpg.rf.ebfd4c43df20e17ea1f16fc66ce282f9.jpg /Users/maimulm2/Documents/UM/P1:P2/PyTorch Project/Main/spiral/\n",
      "Spiral\n"
     ]
    },
    {
     "name": "stderr",
     "output_type": "stream",
     "text": [
      "image 1/1 /Users/maimulm2/Documents/UM/P1:P2/PyTorch Project/Main/testData/293756_jpg.rf.3d79c1e394d3966815fb35abaca41daf.jpg: 640x640 1 Elliptical, 1 Spiral, 1616.1ms\n",
      "Speed: 2.0ms preprocess, 1616.1ms inference, 1.7ms postprocess per image at shape (1, 3, 640, 640)\n",
      "\n"
     ]
    },
    {
     "name": "stdout",
     "output_type": "stream",
     "text": [
      "Spiral\n",
      "/Users/maimulm2/Documents/UM/P1:P2/PyTorch Project/Main/testData/293756_jpg.rf.3d79c1e394d3966815fb35abaca41daf.jpg /Users/maimulm2/Documents/UM/P1:P2/PyTorch Project/Main/spiral/\n",
      "Spiral\n"
     ]
    },
    {
     "name": "stderr",
     "output_type": "stream",
     "text": [
      "image 1/1 /Users/maimulm2/Documents/UM/P1:P2/PyTorch Project/Main/testData/14890_jpg.rf.69b69f59274edc296fc718514ea825a9.jpg: 640x640 1 Spiral, 1309.8ms\n",
      "Speed: 2.2ms preprocess, 1309.8ms inference, 1.0ms postprocess per image at shape (1, 3, 640, 640)\n",
      "\n"
     ]
    },
    {
     "name": "stdout",
     "output_type": "stream",
     "text": [
      "Spiral\n",
      "/Users/maimulm2/Documents/UM/P1:P2/PyTorch Project/Main/testData/14890_jpg.rf.69b69f59274edc296fc718514ea825a9.jpg /Users/maimulm2/Documents/UM/P1:P2/PyTorch Project/Main/spiral/\n",
      "Spiral\n"
     ]
    },
    {
     "name": "stderr",
     "output_type": "stream",
     "text": [
      "image 1/1 /Users/maimulm2/Documents/UM/P1:P2/PyTorch Project/Main/testData/295191.jpg: 640x640 1 Elliptical, 1557.8ms\n",
      "Speed: 3.4ms preprocess, 1557.8ms inference, 1.0ms postprocess per image at shape (1, 3, 640, 640)\n",
      "\n"
     ]
    },
    {
     "name": "stdout",
     "output_type": "stream",
     "text": [
      "Elliptical\n",
      "/Users/maimulm2/Documents/UM/P1:P2/PyTorch Project/Main/testData/295191.jpg /Users/maimulm2/Documents/UM/P1:P2/PyTorch Project/Main/elliptical/\n",
      "Elliptical\n"
     ]
    },
    {
     "name": "stderr",
     "output_type": "stream",
     "text": [
      "image 1/1 /Users/maimulm2/Documents/UM/P1:P2/PyTorch Project/Main/testData/57483_jpg.rf.354038d5e152a5bf7a67ce797ec29546.jpg: 640x640 1 Spiral, 1811.0ms\n",
      "Speed: 2.7ms preprocess, 1811.0ms inference, 1.3ms postprocess per image at shape (1, 3, 640, 640)\n",
      "\n"
     ]
    },
    {
     "name": "stdout",
     "output_type": "stream",
     "text": [
      "Spiral\n",
      "/Users/maimulm2/Documents/UM/P1:P2/PyTorch Project/Main/testData/57483_jpg.rf.354038d5e152a5bf7a67ce797ec29546.jpg /Users/maimulm2/Documents/UM/P1:P2/PyTorch Project/Main/spiral/\n",
      "Spiral\n"
     ]
    },
    {
     "name": "stderr",
     "output_type": "stream",
     "text": [
      "image 1/1 /Users/maimulm2/Documents/UM/P1:P2/PyTorch Project/Main/testData/60871_jpg.rf.ba355691a23ff820e8d29d4eec9ced0e.jpg: 640x640 1 Spiral, 1200.2ms\n",
      "Speed: 2.0ms preprocess, 1200.2ms inference, 1.1ms postprocess per image at shape (1, 3, 640, 640)\n",
      "\n"
     ]
    },
    {
     "name": "stdout",
     "output_type": "stream",
     "text": [
      "Spiral\n",
      "/Users/maimulm2/Documents/UM/P1:P2/PyTorch Project/Main/testData/60871_jpg.rf.ba355691a23ff820e8d29d4eec9ced0e.jpg /Users/maimulm2/Documents/UM/P1:P2/PyTorch Project/Main/spiral/\n",
      "Spiral\n"
     ]
    },
    {
     "name": "stderr",
     "output_type": "stream",
     "text": [
      "image 1/1 /Users/maimulm2/Documents/UM/P1:P2/PyTorch Project/Main/testData/62197_jpg.rf.b3b223a869fb635c207547cd8175a9c0.jpg: 640x640 1 Spiral, 1671.6ms\n",
      "Speed: 1.9ms preprocess, 1671.6ms inference, 1.1ms postprocess per image at shape (1, 3, 640, 640)\n",
      "\n"
     ]
    },
    {
     "name": "stdout",
     "output_type": "stream",
     "text": [
      "Spiral\n",
      "/Users/maimulm2/Documents/UM/P1:P2/PyTorch Project/Main/testData/62197_jpg.rf.b3b223a869fb635c207547cd8175a9c0.jpg /Users/maimulm2/Documents/UM/P1:P2/PyTorch Project/Main/spiral/\n",
      "Spiral\n"
     ]
    },
    {
     "name": "stderr",
     "output_type": "stream",
     "text": [
      "image 1/1 /Users/maimulm2/Documents/UM/P1:P2/PyTorch Project/Main/testData/218284_jpg.rf.b25b72d7058c469e8757b89e1f3053df.jpg: 640x640 1 Spiral, 1273.9ms\n",
      "Speed: 2.1ms preprocess, 1273.9ms inference, 0.7ms postprocess per image at shape (1, 3, 640, 640)\n",
      "\n"
     ]
    },
    {
     "name": "stdout",
     "output_type": "stream",
     "text": [
      "Spiral\n",
      "/Users/maimulm2/Documents/UM/P1:P2/PyTorch Project/Main/testData/218284_jpg.rf.b25b72d7058c469e8757b89e1f3053df.jpg /Users/maimulm2/Documents/UM/P1:P2/PyTorch Project/Main/spiral/\n",
      "Spiral\n"
     ]
    },
    {
     "name": "stderr",
     "output_type": "stream",
     "text": [
      "image 1/1 /Users/maimulm2/Documents/UM/P1:P2/PyTorch Project/Main/testData/295230.jpg: 640x640 1 Elliptical, 1684.3ms\n",
      "Speed: 3.5ms preprocess, 1684.3ms inference, 0.8ms postprocess per image at shape (1, 3, 640, 640)\n",
      "\n"
     ]
    },
    {
     "name": "stdout",
     "output_type": "stream",
     "text": [
      "Elliptical\n",
      "/Users/maimulm2/Documents/UM/P1:P2/PyTorch Project/Main/testData/295230.jpg /Users/maimulm2/Documents/UM/P1:P2/PyTorch Project/Main/elliptical/\n",
      "Elliptical\n"
     ]
    },
    {
     "name": "stderr",
     "output_type": "stream",
     "text": [
      "image 1/1 /Users/maimulm2/Documents/UM/P1:P2/PyTorch Project/Main/testData/295231.jpg: 640x640 1 Elliptical, 1194.6ms\n",
      "Speed: 2.6ms preprocess, 1194.6ms inference, 0.8ms postprocess per image at shape (1, 3, 640, 640)\n",
      "\n"
     ]
    },
    {
     "name": "stdout",
     "output_type": "stream",
     "text": [
      "Elliptical\n",
      "/Users/maimulm2/Documents/UM/P1:P2/PyTorch Project/Main/testData/295231.jpg /Users/maimulm2/Documents/UM/P1:P2/PyTorch Project/Main/elliptical/\n",
      "Elliptical\n"
     ]
    },
    {
     "name": "stderr",
     "output_type": "stream",
     "text": [
      "image 1/1 /Users/maimulm2/Documents/UM/P1:P2/PyTorch Project/Main/testData/295219.jpg: 640x640 1 Spiral, 1482.0ms\n",
      "Speed: 3.2ms preprocess, 1482.0ms inference, 0.8ms postprocess per image at shape (1, 3, 640, 640)\n",
      "\n"
     ]
    },
    {
     "name": "stdout",
     "output_type": "stream",
     "text": [
      "Spiral\n",
      "/Users/maimulm2/Documents/UM/P1:P2/PyTorch Project/Main/testData/295219.jpg /Users/maimulm2/Documents/UM/P1:P2/PyTorch Project/Main/spiral/\n",
      "Spiral\n"
     ]
    },
    {
     "name": "stderr",
     "output_type": "stream",
     "text": [
      "image 1/1 /Users/maimulm2/Documents/UM/P1:P2/PyTorch Project/Main/testData/139745_jpg.rf.f3f6a449a3290faf93a62b60d37bc64f.jpg: 640x640 1 Spiral, 1802.8ms\n",
      "Speed: 1.9ms preprocess, 1802.8ms inference, 1.4ms postprocess per image at shape (1, 3, 640, 640)\n",
      "\n"
     ]
    },
    {
     "name": "stdout",
     "output_type": "stream",
     "text": [
      "Spiral\n",
      "/Users/maimulm2/Documents/UM/P1:P2/PyTorch Project/Main/testData/139745_jpg.rf.f3f6a449a3290faf93a62b60d37bc64f.jpg /Users/maimulm2/Documents/UM/P1:P2/PyTorch Project/Main/spiral/\n",
      "Spiral\n"
     ]
    },
    {
     "name": "stderr",
     "output_type": "stream",
     "text": [
      "image 1/1 /Users/maimulm2/Documents/UM/P1:P2/PyTorch Project/Main/testData/15254_jpg.rf.f35ae83fd1dcf4b24fb694ecf7d82fbd.jpg: 640x640 (no detections), 1211.4ms\n",
      "Speed: 2.7ms preprocess, 1211.4ms inference, 1.0ms postprocess per image at shape (1, 3, 640, 640)\n",
      "\n"
     ]
    },
    {
     "name": "stdout",
     "output_type": "stream",
     "text": [
      "list index out of range\n"
     ]
    },
    {
     "name": "stderr",
     "output_type": "stream",
     "text": [
      "image 1/1 /Users/maimulm2/Documents/UM/P1:P2/PyTorch Project/Main/testData/295147.jpg: 640x640 1 Spiral, 1297.7ms\n",
      "Speed: 6.1ms preprocess, 1297.7ms inference, 1.4ms postprocess per image at shape (1, 3, 640, 640)\n",
      "\n"
     ]
    },
    {
     "name": "stdout",
     "output_type": "stream",
     "text": [
      "Spiral\n",
      "/Users/maimulm2/Documents/UM/P1:P2/PyTorch Project/Main/testData/295147.jpg /Users/maimulm2/Documents/UM/P1:P2/PyTorch Project/Main/spiral/\n",
      "Spiral\n"
     ]
    },
    {
     "name": "stderr",
     "output_type": "stream",
     "text": [
      "image 1/1 /Users/maimulm2/Documents/UM/P1:P2/PyTorch Project/Main/testData/295184.jpg: 640x640 1 Spiral, 1114.9ms\n",
      "Speed: 3.4ms preprocess, 1114.9ms inference, 0.7ms postprocess per image at shape (1, 3, 640, 640)\n",
      "\n"
     ]
    },
    {
     "name": "stdout",
     "output_type": "stream",
     "text": [
      "Spiral\n",
      "/Users/maimulm2/Documents/UM/P1:P2/PyTorch Project/Main/testData/295184.jpg /Users/maimulm2/Documents/UM/P1:P2/PyTorch Project/Main/spiral/\n",
      "Spiral\n"
     ]
    },
    {
     "name": "stderr",
     "output_type": "stream",
     "text": [
      "image 1/1 /Users/maimulm2/Documents/UM/P1:P2/PyTorch Project/Main/testData/47763_jpg.rf.d5d35f87edbe26b0faab50238a2b9e67.jpg: 640x640 1 Spiral, 1156.3ms\n",
      "Speed: 1.6ms preprocess, 1156.3ms inference, 0.7ms postprocess per image at shape (1, 3, 640, 640)\n",
      "\n"
     ]
    },
    {
     "name": "stdout",
     "output_type": "stream",
     "text": [
      "Spiral\n",
      "/Users/maimulm2/Documents/UM/P1:P2/PyTorch Project/Main/testData/47763_jpg.rf.d5d35f87edbe26b0faab50238a2b9e67.jpg /Users/maimulm2/Documents/UM/P1:P2/PyTorch Project/Main/spiral/\n",
      "Spiral\n"
     ]
    },
    {
     "name": "stderr",
     "output_type": "stream",
     "text": [
      "image 1/1 /Users/maimulm2/Documents/UM/P1:P2/PyTorch Project/Main/testData/295180.jpg: 640x640 1 Elliptical, 1234.9ms\n",
      "Speed: 2.6ms preprocess, 1234.9ms inference, 0.7ms postprocess per image at shape (1, 3, 640, 640)\n",
      "\n"
     ]
    },
    {
     "name": "stdout",
     "output_type": "stream",
     "text": [
      "Elliptical\n",
      "/Users/maimulm2/Documents/UM/P1:P2/PyTorch Project/Main/testData/295180.jpg /Users/maimulm2/Documents/UM/P1:P2/PyTorch Project/Main/elliptical/\n",
      "Elliptical\n"
     ]
    },
    {
     "name": "stderr",
     "output_type": "stream",
     "text": [
      "image 1/1 /Users/maimulm2/Documents/UM/P1:P2/PyTorch Project/Main/testData/295157.jpg: 640x640 1 Elliptical, 1242.1ms\n",
      "Speed: 2.6ms preprocess, 1242.1ms inference, 0.7ms postprocess per image at shape (1, 3, 640, 640)\n",
      "\n"
     ]
    },
    {
     "name": "stdout",
     "output_type": "stream",
     "text": [
      "Elliptical\n",
      "/Users/maimulm2/Documents/UM/P1:P2/PyTorch Project/Main/testData/295157.jpg /Users/maimulm2/Documents/UM/P1:P2/PyTorch Project/Main/elliptical/\n",
      "Elliptical\n"
     ]
    },
    {
     "name": "stderr",
     "output_type": "stream",
     "text": [
      "image 1/1 /Users/maimulm2/Documents/UM/P1:P2/PyTorch Project/Main/testData/191585_jpg.rf.479878b6a1526b6f254c203f9fb89639.jpg: 640x640 1 Spiral, 1009.6ms\n",
      "Speed: 1.6ms preprocess, 1009.6ms inference, 1.9ms postprocess per image at shape (1, 3, 640, 640)\n",
      "\n"
     ]
    },
    {
     "name": "stdout",
     "output_type": "stream",
     "text": [
      "Spiral\n",
      "/Users/maimulm2/Documents/UM/P1:P2/PyTorch Project/Main/testData/191585_jpg.rf.479878b6a1526b6f254c203f9fb89639.jpg /Users/maimulm2/Documents/UM/P1:P2/PyTorch Project/Main/spiral/\n",
      "Spiral\n"
     ]
    },
    {
     "name": "stderr",
     "output_type": "stream",
     "text": [
      "image 1/1 /Users/maimulm2/Documents/UM/P1:P2/PyTorch Project/Main/testData/295209.jpg: 640x640 1 Spiral, 1143.3ms\n",
      "Speed: 3.2ms preprocess, 1143.3ms inference, 0.9ms postprocess per image at shape (1, 3, 640, 640)\n",
      "\n"
     ]
    },
    {
     "name": "stdout",
     "output_type": "stream",
     "text": [
      "Spiral\n",
      "/Users/maimulm2/Documents/UM/P1:P2/PyTorch Project/Main/testData/295209.jpg /Users/maimulm2/Documents/UM/P1:P2/PyTorch Project/Main/spiral/\n",
      "Spiral\n"
     ]
    },
    {
     "name": "stderr",
     "output_type": "stream",
     "text": [
      "image 1/1 /Users/maimulm2/Documents/UM/P1:P2/PyTorch Project/Main/testData/190356_jpg.rf.a03796a32cf7a744a93bad5f95e3bc1c.jpg: 640x640 2 Spirals, 1248.1ms\n",
      "Speed: 1.7ms preprocess, 1248.1ms inference, 1.2ms postprocess per image at shape (1, 3, 640, 640)\n",
      "\n"
     ]
    },
    {
     "name": "stdout",
     "output_type": "stream",
     "text": [
      "Spiral\n",
      "/Users/maimulm2/Documents/UM/P1:P2/PyTorch Project/Main/testData/190356_jpg.rf.a03796a32cf7a744a93bad5f95e3bc1c.jpg /Users/maimulm2/Documents/UM/P1:P2/PyTorch Project/Main/spiral/\n",
      "Spiral\n"
     ]
    },
    {
     "name": "stderr",
     "output_type": "stream",
     "text": [
      "image 1/1 /Users/maimulm2/Documents/UM/P1:P2/PyTorch Project/Main/testData/295234.jpg: 640x640 1 Spiral, 1010.1ms\n",
      "Speed: 2.6ms preprocess, 1010.1ms inference, 1.4ms postprocess per image at shape (1, 3, 640, 640)\n",
      "\n"
     ]
    },
    {
     "name": "stdout",
     "output_type": "stream",
     "text": [
      "Spiral\n",
      "/Users/maimulm2/Documents/UM/P1:P2/PyTorch Project/Main/testData/295234.jpg /Users/maimulm2/Documents/UM/P1:P2/PyTorch Project/Main/spiral/\n",
      "Spiral\n"
     ]
    },
    {
     "name": "stderr",
     "output_type": "stream",
     "text": [
      "image 1/1 /Users/maimulm2/Documents/UM/P1:P2/PyTorch Project/Main/testData/41941_jpg.rf.086e65a8c9f14a1fa5cbb9d9404d7169.jpg: 640x640 2 Spirals, 1012.4ms\n",
      "Speed: 1.5ms preprocess, 1012.4ms inference, 1.1ms postprocess per image at shape (1, 3, 640, 640)\n",
      "\n"
     ]
    },
    {
     "name": "stdout",
     "output_type": "stream",
     "text": [
      "Spiral\n",
      "/Users/maimulm2/Documents/UM/P1:P2/PyTorch Project/Main/testData/41941_jpg.rf.086e65a8c9f14a1fa5cbb9d9404d7169.jpg /Users/maimulm2/Documents/UM/P1:P2/PyTorch Project/Main/spiral/\n",
      "Spiral\n"
     ]
    },
    {
     "name": "stderr",
     "output_type": "stream",
     "text": [
      "image 1/1 /Users/maimulm2/Documents/UM/P1:P2/PyTorch Project/Main/testData/24119_jpg.rf.3c814617fbc4eecce8cb4c47e04cc291.jpg: 640x640 1 Spiral, 1020.9ms\n",
      "Speed: 1.5ms preprocess, 1020.9ms inference, 0.6ms postprocess per image at shape (1, 3, 640, 640)\n",
      "\n"
     ]
    },
    {
     "name": "stdout",
     "output_type": "stream",
     "text": [
      "Spiral\n",
      "/Users/maimulm2/Documents/UM/P1:P2/PyTorch Project/Main/testData/24119_jpg.rf.3c814617fbc4eecce8cb4c47e04cc291.jpg /Users/maimulm2/Documents/UM/P1:P2/PyTorch Project/Main/spiral/\n",
      "Spiral\n"
     ]
    },
    {
     "name": "stderr",
     "output_type": "stream",
     "text": [
      "image 1/1 /Users/maimulm2/Documents/UM/P1:P2/PyTorch Project/Main/testData/295195.jpg: 640x640 1 Spiral, 1030.4ms\n",
      "Speed: 2.6ms preprocess, 1030.4ms inference, 3.1ms postprocess per image at shape (1, 3, 640, 640)\n",
      "\n"
     ]
    },
    {
     "name": "stdout",
     "output_type": "stream",
     "text": [
      "Spiral\n",
      "/Users/maimulm2/Documents/UM/P1:P2/PyTorch Project/Main/testData/295195.jpg /Users/maimulm2/Documents/UM/P1:P2/PyTorch Project/Main/spiral/\n",
      "Spiral\n"
     ]
    },
    {
     "name": "stderr",
     "output_type": "stream",
     "text": [
      "image 1/1 /Users/maimulm2/Documents/UM/P1:P2/PyTorch Project/Main/testData/51967_jpg.rf.79acfe44c1530d1cf5377acdc85b7cbc.jpg: 640x640 1 Spiral, 1214.5ms\n",
      "Speed: 2.1ms preprocess, 1214.5ms inference, 1.1ms postprocess per image at shape (1, 3, 640, 640)\n",
      "\n"
     ]
    },
    {
     "name": "stdout",
     "output_type": "stream",
     "text": [
      "Spiral\n",
      "/Users/maimulm2/Documents/UM/P1:P2/PyTorch Project/Main/testData/51967_jpg.rf.79acfe44c1530d1cf5377acdc85b7cbc.jpg /Users/maimulm2/Documents/UM/P1:P2/PyTorch Project/Main/spiral/\n",
      "Spiral\n"
     ]
    },
    {
     "name": "stderr",
     "output_type": "stream",
     "text": [
      "image 1/1 /Users/maimulm2/Documents/UM/P1:P2/PyTorch Project/Main/testData/25599_jpg.rf.c5112427dbabfe966f6e52e187fd291d.jpg: 640x640 2 Spirals, 1004.2ms\n",
      "Speed: 1.8ms preprocess, 1004.2ms inference, 0.7ms postprocess per image at shape (1, 3, 640, 640)\n",
      "\n"
     ]
    },
    {
     "name": "stdout",
     "output_type": "stream",
     "text": [
      "Spiral\n",
      "/Users/maimulm2/Documents/UM/P1:P2/PyTorch Project/Main/testData/25599_jpg.rf.c5112427dbabfe966f6e52e187fd291d.jpg /Users/maimulm2/Documents/UM/P1:P2/PyTorch Project/Main/spiral/\n",
      "Spiral\n"
     ]
    },
    {
     "name": "stderr",
     "output_type": "stream",
     "text": [
      "image 1/1 /Users/maimulm2/Documents/UM/P1:P2/PyTorch Project/Main/testData/1563_jpg.rf.fa0df480078f8d877f68744a538dc7a4.jpg: 640x640 1 Spiral, 1018.7ms\n",
      "Speed: 1.6ms preprocess, 1018.7ms inference, 0.6ms postprocess per image at shape (1, 3, 640, 640)\n",
      "\n"
     ]
    },
    {
     "name": "stdout",
     "output_type": "stream",
     "text": [
      "Spiral\n",
      "/Users/maimulm2/Documents/UM/P1:P2/PyTorch Project/Main/testData/1563_jpg.rf.fa0df480078f8d877f68744a538dc7a4.jpg /Users/maimulm2/Documents/UM/P1:P2/PyTorch Project/Main/spiral/\n",
      "Spiral\n"
     ]
    },
    {
     "name": "stderr",
     "output_type": "stream",
     "text": [
      "image 1/1 /Users/maimulm2/Documents/UM/P1:P2/PyTorch Project/Main/testData/292175_jpg.rf.c8c71d758f2f41aea3a02f0fbd34a02a.jpg: 640x640 1 Spiral, 999.0ms\n",
      "Speed: 1.6ms preprocess, 999.0ms inference, 0.7ms postprocess per image at shape (1, 3, 640, 640)\n",
      "\n"
     ]
    },
    {
     "name": "stdout",
     "output_type": "stream",
     "text": [
      "Spiral\n",
      "/Users/maimulm2/Documents/UM/P1:P2/PyTorch Project/Main/testData/292175_jpg.rf.c8c71d758f2f41aea3a02f0fbd34a02a.jpg /Users/maimulm2/Documents/UM/P1:P2/PyTorch Project/Main/spiral/\n",
      "Spiral\n"
     ]
    },
    {
     "name": "stderr",
     "output_type": "stream",
     "text": [
      "image 1/1 /Users/maimulm2/Documents/UM/P1:P2/PyTorch Project/Main/testData/136526_jpg.rf.fabdb404b25c711f5b5244be58b94598.jpg: 640x640 2 Spirals, 1154.3ms\n",
      "Speed: 1.5ms preprocess, 1154.3ms inference, 0.6ms postprocess per image at shape (1, 3, 640, 640)\n",
      "\n"
     ]
    },
    {
     "name": "stdout",
     "output_type": "stream",
     "text": [
      "Spiral\n",
      "/Users/maimulm2/Documents/UM/P1:P2/PyTorch Project/Main/testData/136526_jpg.rf.fabdb404b25c711f5b5244be58b94598.jpg /Users/maimulm2/Documents/UM/P1:P2/PyTorch Project/Main/spiral/\n",
      "Spiral\n"
     ]
    },
    {
     "name": "stderr",
     "output_type": "stream",
     "text": [
      "image 1/1 /Users/maimulm2/Documents/UM/P1:P2/PyTorch Project/Main/testData/295236.jpg: 640x640 1 Spiral, 1078.8ms\n",
      "Speed: 2.4ms preprocess, 1078.8ms inference, 0.6ms postprocess per image at shape (1, 3, 640, 640)\n",
      "\n"
     ]
    },
    {
     "name": "stdout",
     "output_type": "stream",
     "text": [
      "Spiral\n",
      "/Users/maimulm2/Documents/UM/P1:P2/PyTorch Project/Main/testData/295236.jpg /Users/maimulm2/Documents/UM/P1:P2/PyTorch Project/Main/spiral/\n",
      "Spiral\n"
     ]
    },
    {
     "name": "stderr",
     "output_type": "stream",
     "text": [
      "image 1/1 /Users/maimulm2/Documents/UM/P1:P2/PyTorch Project/Main/testData/8934_jpg.rf.37ffa1608a05828f1d7215770ae86e7e.jpg: 640x640 1 Spiral, 1013.1ms\n",
      "Speed: 1.4ms preprocess, 1013.1ms inference, 1.1ms postprocess per image at shape (1, 3, 640, 640)\n",
      "\n"
     ]
    },
    {
     "name": "stdout",
     "output_type": "stream",
     "text": [
      "Spiral\n",
      "/Users/maimulm2/Documents/UM/P1:P2/PyTorch Project/Main/testData/8934_jpg.rf.37ffa1608a05828f1d7215770ae86e7e.jpg /Users/maimulm2/Documents/UM/P1:P2/PyTorch Project/Main/spiral/\n",
      "Spiral\n"
     ]
    },
    {
     "name": "stderr",
     "output_type": "stream",
     "text": [
      "image 1/1 /Users/maimulm2/Documents/UM/P1:P2/PyTorch Project/Main/testData/295237.jpg: 640x640 1 Spiral, 984.6ms\n",
      "Speed: 2.7ms preprocess, 984.6ms inference, 1.0ms postprocess per image at shape (1, 3, 640, 640)\n",
      "\n"
     ]
    },
    {
     "name": "stdout",
     "output_type": "stream",
     "text": [
      "Spiral\n",
      "/Users/maimulm2/Documents/UM/P1:P2/PyTorch Project/Main/testData/295237.jpg /Users/maimulm2/Documents/UM/P1:P2/PyTorch Project/Main/spiral/\n",
      "Spiral\n"
     ]
    },
    {
     "name": "stderr",
     "output_type": "stream",
     "text": [
      "image 1/1 /Users/maimulm2/Documents/UM/P1:P2/PyTorch Project/Main/testData/28654_jpg.rf.ec6e2119d4c9ba20ae162ecb6b4f2db8.jpg: 640x640 1 Spiral, 1023.7ms\n",
      "Speed: 1.5ms preprocess, 1023.7ms inference, 0.7ms postprocess per image at shape (1, 3, 640, 640)\n",
      "\n"
     ]
    },
    {
     "name": "stdout",
     "output_type": "stream",
     "text": [
      "Spiral\n",
      "/Users/maimulm2/Documents/UM/P1:P2/PyTorch Project/Main/testData/28654_jpg.rf.ec6e2119d4c9ba20ae162ecb6b4f2db8.jpg /Users/maimulm2/Documents/UM/P1:P2/PyTorch Project/Main/spiral/\n",
      "Spiral\n"
     ]
    },
    {
     "name": "stderr",
     "output_type": "stream",
     "text": [
      "image 1/1 /Users/maimulm2/Documents/UM/P1:P2/PyTorch Project/Main/testData/295155.jpg: 640x640 1 Spiral, 1019.5ms\n",
      "Speed: 2.6ms preprocess, 1019.5ms inference, 0.7ms postprocess per image at shape (1, 3, 640, 640)\n",
      "\n"
     ]
    },
    {
     "name": "stdout",
     "output_type": "stream",
     "text": [
      "Spiral\n",
      "/Users/maimulm2/Documents/UM/P1:P2/PyTorch Project/Main/testData/295155.jpg /Users/maimulm2/Documents/UM/P1:P2/PyTorch Project/Main/spiral/\n",
      "Spiral\n"
     ]
    },
    {
     "name": "stderr",
     "output_type": "stream",
     "text": [
      "image 1/1 /Users/maimulm2/Documents/UM/P1:P2/PyTorch Project/Main/testData/295196.jpg: 640x640 1 Elliptical, 1238.4ms\n",
      "Speed: 2.6ms preprocess, 1238.4ms inference, 1.2ms postprocess per image at shape (1, 3, 640, 640)\n",
      "\n"
     ]
    },
    {
     "name": "stdout",
     "output_type": "stream",
     "text": [
      "Elliptical\n",
      "/Users/maimulm2/Documents/UM/P1:P2/PyTorch Project/Main/testData/295196.jpg /Users/maimulm2/Documents/UM/P1:P2/PyTorch Project/Main/elliptical/\n",
      "Elliptical\n"
     ]
    },
    {
     "name": "stderr",
     "output_type": "stream",
     "text": [
      "image 1/1 /Users/maimulm2/Documents/UM/P1:P2/PyTorch Project/Main/testData/58759_jpg.rf.efe22b27948516e6eb1ee58d46b10ab2.jpg: 640x640 3 Spirals, 1009.5ms\n",
      "Speed: 1.6ms preprocess, 1009.5ms inference, 0.7ms postprocess per image at shape (1, 3, 640, 640)\n",
      "\n"
     ]
    },
    {
     "name": "stdout",
     "output_type": "stream",
     "text": [
      "Spiral\n",
      "/Users/maimulm2/Documents/UM/P1:P2/PyTorch Project/Main/testData/58759_jpg.rf.efe22b27948516e6eb1ee58d46b10ab2.jpg /Users/maimulm2/Documents/UM/P1:P2/PyTorch Project/Main/spiral/\n",
      "Spiral\n"
     ]
    },
    {
     "name": "stderr",
     "output_type": "stream",
     "text": [
      "image 1/1 /Users/maimulm2/Documents/UM/P1:P2/PyTorch Project/Main/testData/52335_jpg.rf.edd784ee29bd7c281cf4210d3b000446.jpg: 640x640 1 Spiral, 986.7ms\n",
      "Speed: 1.6ms preprocess, 986.7ms inference, 1.2ms postprocess per image at shape (1, 3, 640, 640)\n",
      "\n"
     ]
    },
    {
     "name": "stdout",
     "output_type": "stream",
     "text": [
      "Spiral\n",
      "/Users/maimulm2/Documents/UM/P1:P2/PyTorch Project/Main/testData/52335_jpg.rf.edd784ee29bd7c281cf4210d3b000446.jpg /Users/maimulm2/Documents/UM/P1:P2/PyTorch Project/Main/spiral/\n",
      "Spiral\n"
     ]
    },
    {
     "name": "stderr",
     "output_type": "stream",
     "text": [
      "image 1/1 /Users/maimulm2/Documents/UM/P1:P2/PyTorch Project/Main/testData/22906_jpg.rf.64dcb70e7d84a82e5157dbbdbe84bc0a.jpg: 640x640 1 Spiral, 1017.6ms\n",
      "Speed: 1.9ms preprocess, 1017.6ms inference, 1.7ms postprocess per image at shape (1, 3, 640, 640)\n",
      "\n"
     ]
    },
    {
     "name": "stdout",
     "output_type": "stream",
     "text": [
      "Spiral\n",
      "/Users/maimulm2/Documents/UM/P1:P2/PyTorch Project/Main/testData/22906_jpg.rf.64dcb70e7d84a82e5157dbbdbe84bc0a.jpg /Users/maimulm2/Documents/UM/P1:P2/PyTorch Project/Main/spiral/\n",
      "Spiral\n"
     ]
    },
    {
     "name": "stderr",
     "output_type": "stream",
     "text": [
      "image 1/1 /Users/maimulm2/Documents/UM/P1:P2/PyTorch Project/Main/testData/52344_jpg.rf.24e3865e418c71e5912fb3bd2ff470e4.jpg: 640x640 1 Spiral, 1108.7ms\n",
      "Speed: 1.5ms preprocess, 1108.7ms inference, 1.1ms postprocess per image at shape (1, 3, 640, 640)\n",
      "\n"
     ]
    },
    {
     "name": "stdout",
     "output_type": "stream",
     "text": [
      "Spiral\n",
      "/Users/maimulm2/Documents/UM/P1:P2/PyTorch Project/Main/testData/52344_jpg.rf.24e3865e418c71e5912fb3bd2ff470e4.jpg /Users/maimulm2/Documents/UM/P1:P2/PyTorch Project/Main/spiral/\n",
      "Spiral\n"
     ]
    },
    {
     "name": "stderr",
     "output_type": "stream",
     "text": [
      "image 1/1 /Users/maimulm2/Documents/UM/P1:P2/PyTorch Project/Main/testData/169585_jpg.rf.0fdb4dd43ccac39228a5171e6a0a3719.jpg: 640x640 1 Spiral, 1151.5ms\n",
      "Speed: 1.4ms preprocess, 1151.5ms inference, 0.6ms postprocess per image at shape (1, 3, 640, 640)\n",
      "\n"
     ]
    },
    {
     "name": "stdout",
     "output_type": "stream",
     "text": [
      "Spiral\n",
      "/Users/maimulm2/Documents/UM/P1:P2/PyTorch Project/Main/testData/169585_jpg.rf.0fdb4dd43ccac39228a5171e6a0a3719.jpg /Users/maimulm2/Documents/UM/P1:P2/PyTorch Project/Main/spiral/\n",
      "Spiral\n"
     ]
    },
    {
     "name": "stderr",
     "output_type": "stream",
     "text": [
      "image 1/1 /Users/maimulm2/Documents/UM/P1:P2/PyTorch Project/Main/testData/7666_jpg.rf.f7acaaebe32a828f705bb339a39ac1ec.jpg: 640x640 1 Spiral, 991.9ms\n",
      "Speed: 1.4ms preprocess, 991.9ms inference, 1.3ms postprocess per image at shape (1, 3, 640, 640)\n",
      "\n"
     ]
    },
    {
     "name": "stdout",
     "output_type": "stream",
     "text": [
      "Spiral\n",
      "/Users/maimulm2/Documents/UM/P1:P2/PyTorch Project/Main/testData/7666_jpg.rf.f7acaaebe32a828f705bb339a39ac1ec.jpg /Users/maimulm2/Documents/UM/P1:P2/PyTorch Project/Main/spiral/\n",
      "Spiral\n"
     ]
    },
    {
     "name": "stderr",
     "output_type": "stream",
     "text": [
      "image 1/1 /Users/maimulm2/Documents/UM/P1:P2/PyTorch Project/Main/testData/295207.jpg: 640x640 1 Spiral, 992.9ms\n",
      "Speed: 3.1ms preprocess, 992.9ms inference, 1.1ms postprocess per image at shape (1, 3, 640, 640)\n",
      "\n"
     ]
    },
    {
     "name": "stdout",
     "output_type": "stream",
     "text": [
      "Spiral\n",
      "/Users/maimulm2/Documents/UM/P1:P2/PyTorch Project/Main/testData/295207.jpg /Users/maimulm2/Documents/UM/P1:P2/PyTorch Project/Main/spiral/\n",
      "Spiral\n"
     ]
    },
    {
     "name": "stderr",
     "output_type": "stream",
     "text": [
      "image 1/1 /Users/maimulm2/Documents/UM/P1:P2/PyTorch Project/Main/testData/58807_jpg.rf.3c0ae22e2a2629e3433c4d8c4215db99.jpg: 640x640 1 Spiral, 1122.6ms\n",
      "Speed: 1.6ms preprocess, 1122.6ms inference, 0.6ms postprocess per image at shape (1, 3, 640, 640)\n",
      "\n"
     ]
    },
    {
     "name": "stdout",
     "output_type": "stream",
     "text": [
      "Spiral\n",
      "/Users/maimulm2/Documents/UM/P1:P2/PyTorch Project/Main/testData/58807_jpg.rf.3c0ae22e2a2629e3433c4d8c4215db99.jpg /Users/maimulm2/Documents/UM/P1:P2/PyTorch Project/Main/spiral/\n",
      "Spiral\n"
     ]
    },
    {
     "name": "stderr",
     "output_type": "stream",
     "text": [
      "image 1/1 /Users/maimulm2/Documents/UM/P1:P2/PyTorch Project/Main/testData/22174_jpg.rf.4df7b42975876ffa64a0b6cb959ed087.jpg: 640x640 1 Spiral, 1012.6ms\n",
      "Speed: 1.4ms preprocess, 1012.6ms inference, 0.6ms postprocess per image at shape (1, 3, 640, 640)\n",
      "\n"
     ]
    },
    {
     "name": "stdout",
     "output_type": "stream",
     "text": [
      "Spiral\n",
      "/Users/maimulm2/Documents/UM/P1:P2/PyTorch Project/Main/testData/22174_jpg.rf.4df7b42975876ffa64a0b6cb959ed087.jpg /Users/maimulm2/Documents/UM/P1:P2/PyTorch Project/Main/spiral/\n",
      "Spiral\n"
     ]
    },
    {
     "name": "stderr",
     "output_type": "stream",
     "text": [
      "image 1/1 /Users/maimulm2/Documents/UM/P1:P2/PyTorch Project/Main/testData/6778_jpg.rf.d74c9ac6c268c6acf96a0eb250a9f64c.jpg: 640x640 1 Spiral, 1142.6ms\n",
      "Speed: 1.4ms preprocess, 1142.6ms inference, 0.6ms postprocess per image at shape (1, 3, 640, 640)\n",
      "\n"
     ]
    },
    {
     "name": "stdout",
     "output_type": "stream",
     "text": [
      "Spiral\n",
      "/Users/maimulm2/Documents/UM/P1:P2/PyTorch Project/Main/testData/6778_jpg.rf.d74c9ac6c268c6acf96a0eb250a9f64c.jpg /Users/maimulm2/Documents/UM/P1:P2/PyTorch Project/Main/spiral/\n",
      "Spiral\n"
     ]
    },
    {
     "name": "stderr",
     "output_type": "stream",
     "text": [
      "image 1/1 /Users/maimulm2/Documents/UM/P1:P2/PyTorch Project/Main/testData/61292_jpg.rf.bd903516fcf2ea196f3c804f2ea755d4.jpg: 640x640 1 Spiral, 1014.0ms\n",
      "Speed: 1.5ms preprocess, 1014.0ms inference, 0.7ms postprocess per image at shape (1, 3, 640, 640)\n",
      "\n"
     ]
    },
    {
     "name": "stdout",
     "output_type": "stream",
     "text": [
      "Spiral\n",
      "/Users/maimulm2/Documents/UM/P1:P2/PyTorch Project/Main/testData/61292_jpg.rf.bd903516fcf2ea196f3c804f2ea755d4.jpg /Users/maimulm2/Documents/UM/P1:P2/PyTorch Project/Main/spiral/\n",
      "Spiral\n"
     ]
    },
    {
     "name": "stderr",
     "output_type": "stream",
     "text": [
      "image 1/1 /Users/maimulm2/Documents/UM/P1:P2/PyTorch Project/Main/testData/295198.jpg: 640x640 1 Spiral, 999.1ms\n",
      "Speed: 2.6ms preprocess, 999.1ms inference, 1.1ms postprocess per image at shape (1, 3, 640, 640)\n",
      "\n"
     ]
    },
    {
     "name": "stdout",
     "output_type": "stream",
     "text": [
      "Spiral\n",
      "/Users/maimulm2/Documents/UM/P1:P2/PyTorch Project/Main/testData/295198.jpg /Users/maimulm2/Documents/UM/P1:P2/PyTorch Project/Main/spiral/\n",
      "Spiral\n"
     ]
    },
    {
     "name": "stderr",
     "output_type": "stream",
     "text": [
      "image 1/1 /Users/maimulm2/Documents/UM/P1:P2/PyTorch Project/Main/testData/44335_jpg.rf.8534eb434e78af340f9e0486e14167d0.jpg: 640x640 2 Spirals, 1090.6ms\n",
      "Speed: 1.5ms preprocess, 1090.6ms inference, 1.2ms postprocess per image at shape (1, 3, 640, 640)\n",
      "\n"
     ]
    },
    {
     "name": "stdout",
     "output_type": "stream",
     "text": [
      "Spiral\n",
      "/Users/maimulm2/Documents/UM/P1:P2/PyTorch Project/Main/testData/44335_jpg.rf.8534eb434e78af340f9e0486e14167d0.jpg /Users/maimulm2/Documents/UM/P1:P2/PyTorch Project/Main/spiral/\n",
      "Spiral\n"
     ]
    },
    {
     "name": "stderr",
     "output_type": "stream",
     "text": [
      "image 1/1 /Users/maimulm2/Documents/UM/P1:P2/PyTorch Project/Main/testData/295205.jpg: 640x640 1 Spiral, 1025.0ms\n",
      "Speed: 2.6ms preprocess, 1025.0ms inference, 1.1ms postprocess per image at shape (1, 3, 640, 640)\n",
      "\n"
     ]
    },
    {
     "name": "stdout",
     "output_type": "stream",
     "text": [
      "Spiral\n",
      "/Users/maimulm2/Documents/UM/P1:P2/PyTorch Project/Main/testData/295205.jpg /Users/maimulm2/Documents/UM/P1:P2/PyTorch Project/Main/spiral/\n",
      "Spiral\n"
     ]
    },
    {
     "name": "stderr",
     "output_type": "stream",
     "text": [
      "image 1/1 /Users/maimulm2/Documents/UM/P1:P2/PyTorch Project/Main/testData/67408_jpg.rf.a649fa937f0f1ca46962d6e563142c5a.jpg: 640x640 1 Spiral, 1146.3ms\n",
      "Speed: 1.4ms preprocess, 1146.3ms inference, 0.8ms postprocess per image at shape (1, 3, 640, 640)\n",
      "\n"
     ]
    },
    {
     "name": "stdout",
     "output_type": "stream",
     "text": [
      "Spiral\n",
      "/Users/maimulm2/Documents/UM/P1:P2/PyTorch Project/Main/testData/67408_jpg.rf.a649fa937f0f1ca46962d6e563142c5a.jpg /Users/maimulm2/Documents/UM/P1:P2/PyTorch Project/Main/spiral/\n",
      "Spiral\n"
     ]
    },
    {
     "name": "stderr",
     "output_type": "stream",
     "text": [
      "image 1/1 /Users/maimulm2/Documents/UM/P1:P2/PyTorch Project/Main/testData/10785_jpg.rf.d0b3996671f6bcd2242f6b265df296ac.jpg: 640x640 1 Spiral, 1097.9ms\n",
      "Speed: 1.5ms preprocess, 1097.9ms inference, 1.0ms postprocess per image at shape (1, 3, 640, 640)\n",
      "\n"
     ]
    },
    {
     "name": "stdout",
     "output_type": "stream",
     "text": [
      "Spiral\n",
      "/Users/maimulm2/Documents/UM/P1:P2/PyTorch Project/Main/testData/10785_jpg.rf.d0b3996671f6bcd2242f6b265df296ac.jpg /Users/maimulm2/Documents/UM/P1:P2/PyTorch Project/Main/spiral/\n",
      "Spiral\n"
     ]
    },
    {
     "name": "stderr",
     "output_type": "stream",
     "text": [
      "image 1/1 /Users/maimulm2/Documents/UM/P1:P2/PyTorch Project/Main/testData/108113_jpg.rf.ea59b2eb9b0a3b17ce19bf58ee20be5c.jpg: 640x640 1 Elliptical, 1 Spiral, 995.9ms\n",
      "Speed: 1.6ms preprocess, 995.9ms inference, 0.6ms postprocess per image at shape (1, 3, 640, 640)\n",
      "\n"
     ]
    },
    {
     "name": "stdout",
     "output_type": "stream",
     "text": [
      "Spiral\n",
      "/Users/maimulm2/Documents/UM/P1:P2/PyTorch Project/Main/testData/108113_jpg.rf.ea59b2eb9b0a3b17ce19bf58ee20be5c.jpg /Users/maimulm2/Documents/UM/P1:P2/PyTorch Project/Main/spiral/\n",
      "Spiral\n"
     ]
    },
    {
     "name": "stderr",
     "output_type": "stream",
     "text": [
      "image 1/1 /Users/maimulm2/Documents/UM/P1:P2/PyTorch Project/Main/testData/295199.jpg: 640x640 1 Spiral, 1025.0ms\n",
      "Speed: 2.8ms preprocess, 1025.0ms inference, 1.0ms postprocess per image at shape (1, 3, 640, 640)\n",
      "\n"
     ]
    },
    {
     "name": "stdout",
     "output_type": "stream",
     "text": [
      "Spiral\n",
      "/Users/maimulm2/Documents/UM/P1:P2/PyTorch Project/Main/testData/295199.jpg /Users/maimulm2/Documents/UM/P1:P2/PyTorch Project/Main/spiral/\n",
      "Spiral\n"
     ]
    },
    {
     "name": "stderr",
     "output_type": "stream",
     "text": [
      "image 1/1 /Users/maimulm2/Documents/UM/P1:P2/PyTorch Project/Main/testData/66027_jpg.rf.064f5856dcee47af030b2f6d79167538.jpg: 640x640 1 Spiral, 1077.8ms\n",
      "Speed: 1.4ms preprocess, 1077.8ms inference, 1.1ms postprocess per image at shape (1, 3, 640, 640)\n",
      "\n"
     ]
    },
    {
     "name": "stdout",
     "output_type": "stream",
     "text": [
      "Spiral\n",
      "/Users/maimulm2/Documents/UM/P1:P2/PyTorch Project/Main/testData/66027_jpg.rf.064f5856dcee47af030b2f6d79167538.jpg /Users/maimulm2/Documents/UM/P1:P2/PyTorch Project/Main/spiral/\n",
      "Spiral\n"
     ]
    },
    {
     "name": "stderr",
     "output_type": "stream",
     "text": [
      "image 1/1 /Users/maimulm2/Documents/UM/P1:P2/PyTorch Project/Main/testData/52947_jpg.rf.0d8e2d27d61cc94a06d35040d2bfed3a.jpg: 640x640 2 Spirals, 1097.8ms\n",
      "Speed: 1.9ms preprocess, 1097.8ms inference, 1.1ms postprocess per image at shape (1, 3, 640, 640)\n",
      "\n"
     ]
    },
    {
     "name": "stdout",
     "output_type": "stream",
     "text": [
      "Spiral\n",
      "/Users/maimulm2/Documents/UM/P1:P2/PyTorch Project/Main/testData/52947_jpg.rf.0d8e2d27d61cc94a06d35040d2bfed3a.jpg /Users/maimulm2/Documents/UM/P1:P2/PyTorch Project/Main/spiral/\n",
      "Spiral\n"
     ]
    },
    {
     "name": "stderr",
     "output_type": "stream",
     "text": [
      "image 1/1 /Users/maimulm2/Documents/UM/P1:P2/PyTorch Project/Main/testData/271324_jpg.rf.1275561d89511c93bcf09b101fb4da7b.jpg: 640x640 1 Spiral, 1158.3ms\n",
      "Speed: 1.8ms preprocess, 1158.3ms inference, 1.3ms postprocess per image at shape (1, 3, 640, 640)\n",
      "\n"
     ]
    },
    {
     "name": "stdout",
     "output_type": "stream",
     "text": [
      "Spiral\n",
      "/Users/maimulm2/Documents/UM/P1:P2/PyTorch Project/Main/testData/271324_jpg.rf.1275561d89511c93bcf09b101fb4da7b.jpg /Users/maimulm2/Documents/UM/P1:P2/PyTorch Project/Main/spiral/\n",
      "Spiral\n"
     ]
    },
    {
     "name": "stderr",
     "output_type": "stream",
     "text": [
      "image 1/1 /Users/maimulm2/Documents/UM/P1:P2/PyTorch Project/Main/testData/295176.jpg: 640x640 1 Spiral, 1090.0ms\n",
      "Speed: 3.2ms preprocess, 1090.0ms inference, 1.1ms postprocess per image at shape (1, 3, 640, 640)\n",
      "\n"
     ]
    },
    {
     "name": "stdout",
     "output_type": "stream",
     "text": [
      "Spiral\n",
      "/Users/maimulm2/Documents/UM/P1:P2/PyTorch Project/Main/testData/295176.jpg /Users/maimulm2/Documents/UM/P1:P2/PyTorch Project/Main/spiral/\n",
      "Spiral\n"
     ]
    },
    {
     "name": "stderr",
     "output_type": "stream",
     "text": [
      "image 1/1 /Users/maimulm2/Documents/UM/P1:P2/PyTorch Project/Main/testData/27454_jpg.rf.e64627e93799488353e4dafcced46456.jpg: 640x640 1 Spiral, 1244.1ms\n",
      "Speed: 1.5ms preprocess, 1244.1ms inference, 0.7ms postprocess per image at shape (1, 3, 640, 640)\n",
      "\n"
     ]
    },
    {
     "name": "stdout",
     "output_type": "stream",
     "text": [
      "Spiral\n",
      "/Users/maimulm2/Documents/UM/P1:P2/PyTorch Project/Main/testData/27454_jpg.rf.e64627e93799488353e4dafcced46456.jpg /Users/maimulm2/Documents/UM/P1:P2/PyTorch Project/Main/spiral/\n",
      "Spiral\n"
     ]
    },
    {
     "name": "stderr",
     "output_type": "stream",
     "text": [
      "image 1/1 /Users/maimulm2/Documents/UM/P1:P2/PyTorch Project/Main/testData/295214.jpg: 640x640 1 Spiral, 1440.4ms\n",
      "Speed: 2.6ms preprocess, 1440.4ms inference, 0.8ms postprocess per image at shape (1, 3, 640, 640)\n",
      "\n"
     ]
    },
    {
     "name": "stdout",
     "output_type": "stream",
     "text": [
      "Spiral\n",
      "/Users/maimulm2/Documents/UM/P1:P2/PyTorch Project/Main/testData/295214.jpg /Users/maimulm2/Documents/UM/P1:P2/PyTorch Project/Main/spiral/\n",
      "Spiral\n"
     ]
    },
    {
     "name": "stderr",
     "output_type": "stream",
     "text": [
      "image 1/1 /Users/maimulm2/Documents/UM/P1:P2/PyTorch Project/Main/testData/295228.jpg: 640x640 1 Spiral, 1038.3ms\n",
      "Speed: 3.2ms preprocess, 1038.3ms inference, 1.2ms postprocess per image at shape (1, 3, 640, 640)\n",
      "\n"
     ]
    },
    {
     "name": "stdout",
     "output_type": "stream",
     "text": [
      "Spiral\n",
      "/Users/maimulm2/Documents/UM/P1:P2/PyTorch Project/Main/testData/295228.jpg /Users/maimulm2/Documents/UM/P1:P2/PyTorch Project/Main/spiral/\n",
      "Spiral\n"
     ]
    },
    {
     "name": "stderr",
     "output_type": "stream",
     "text": [
      "image 1/1 /Users/maimulm2/Documents/UM/P1:P2/PyTorch Project/Main/testData/295215.jpg: 640x640 1 Spiral, 977.5ms\n",
      "Speed: 2.7ms preprocess, 977.5ms inference, 1.1ms postprocess per image at shape (1, 3, 640, 640)\n",
      "\n"
     ]
    },
    {
     "name": "stdout",
     "output_type": "stream",
     "text": [
      "Spiral\n",
      "/Users/maimulm2/Documents/UM/P1:P2/PyTorch Project/Main/testData/295215.jpg /Users/maimulm2/Documents/UM/P1:P2/PyTorch Project/Main/spiral/\n",
      "Spiral\n"
     ]
    },
    {
     "name": "stderr",
     "output_type": "stream",
     "text": [
      "image 1/1 /Users/maimulm2/Documents/UM/P1:P2/PyTorch Project/Main/testData/69659_jpg.rf.987ee029a5083459bd6d497e0097f438.jpg: 640x640 1 Spiral, 1005.6ms\n",
      "Speed: 1.5ms preprocess, 1005.6ms inference, 0.8ms postprocess per image at shape (1, 3, 640, 640)\n",
      "\n"
     ]
    },
    {
     "name": "stdout",
     "output_type": "stream",
     "text": [
      "Spiral\n",
      "/Users/maimulm2/Documents/UM/P1:P2/PyTorch Project/Main/testData/69659_jpg.rf.987ee029a5083459bd6d497e0097f438.jpg /Users/maimulm2/Documents/UM/P1:P2/PyTorch Project/Main/spiral/\n",
      "Spiral\n"
     ]
    },
    {
     "name": "stderr",
     "output_type": "stream",
     "text": [
      "image 1/1 /Users/maimulm2/Documents/UM/P1:P2/PyTorch Project/Main/testData/59546_jpg.rf.4f59db1d90e6a9abfb60cc982ff36d0a.jpg: 640x640 1 Spiral, 1072.0ms\n",
      "Speed: 1.9ms preprocess, 1072.0ms inference, 1.0ms postprocess per image at shape (1, 3, 640, 640)\n",
      "\n"
     ]
    },
    {
     "name": "stdout",
     "output_type": "stream",
     "text": [
      "Spiral\n",
      "/Users/maimulm2/Documents/UM/P1:P2/PyTorch Project/Main/testData/59546_jpg.rf.4f59db1d90e6a9abfb60cc982ff36d0a.jpg /Users/maimulm2/Documents/UM/P1:P2/PyTorch Project/Main/spiral/\n",
      "Spiral\n"
     ]
    },
    {
     "name": "stderr",
     "output_type": "stream",
     "text": [
      "image 1/1 /Users/maimulm2/Documents/UM/P1:P2/PyTorch Project/Main/testData/24716_jpg.rf.750a3cb51a7f04f6a1f1ac4b6736769c.jpg: 640x640 1 Spiral, 1099.1ms\n",
      "Speed: 1.5ms preprocess, 1099.1ms inference, 1.3ms postprocess per image at shape (1, 3, 640, 640)\n",
      "\n"
     ]
    },
    {
     "name": "stdout",
     "output_type": "stream",
     "text": [
      "Spiral\n",
      "/Users/maimulm2/Documents/UM/P1:P2/PyTorch Project/Main/testData/24716_jpg.rf.750a3cb51a7f04f6a1f1ac4b6736769c.jpg /Users/maimulm2/Documents/UM/P1:P2/PyTorch Project/Main/spiral/\n",
      "Spiral\n"
     ]
    },
    {
     "name": "stderr",
     "output_type": "stream",
     "text": [
      "image 1/1 /Users/maimulm2/Documents/UM/P1:P2/PyTorch Project/Main/testData/167593_jpg.rf.5cd73de462f4cabd951388f06632ad5b.jpg: 640x640 1 Spiral, 952.4ms\n",
      "Speed: 1.5ms preprocess, 952.4ms inference, 1.1ms postprocess per image at shape (1, 3, 640, 640)\n",
      "\n"
     ]
    },
    {
     "name": "stdout",
     "output_type": "stream",
     "text": [
      "Spiral\n",
      "/Users/maimulm2/Documents/UM/P1:P2/PyTorch Project/Main/testData/167593_jpg.rf.5cd73de462f4cabd951388f06632ad5b.jpg /Users/maimulm2/Documents/UM/P1:P2/PyTorch Project/Main/spiral/\n",
      "Spiral\n"
     ]
    },
    {
     "name": "stderr",
     "output_type": "stream",
     "text": [
      "image 1/1 /Users/maimulm2/Documents/UM/P1:P2/PyTorch Project/Main/testData/295163.jpg: 640x640 1 Spiral, 1039.5ms\n",
      "Speed: 2.6ms preprocess, 1039.5ms inference, 1.5ms postprocess per image at shape (1, 3, 640, 640)\n",
      "\n"
     ]
    },
    {
     "name": "stdout",
     "output_type": "stream",
     "text": [
      "Spiral\n",
      "/Users/maimulm2/Documents/UM/P1:P2/PyTorch Project/Main/testData/295163.jpg /Users/maimulm2/Documents/UM/P1:P2/PyTorch Project/Main/spiral/\n",
      "Spiral\n"
     ]
    },
    {
     "name": "stderr",
     "output_type": "stream",
     "text": [
      "image 1/1 /Users/maimulm2/Documents/UM/P1:P2/PyTorch Project/Main/testData/295188.jpg: 640x640 1 Spiral, 959.4ms\n",
      "Speed: 4.5ms preprocess, 959.4ms inference, 1.6ms postprocess per image at shape (1, 3, 640, 640)\n",
      "\n"
     ]
    },
    {
     "name": "stdout",
     "output_type": "stream",
     "text": [
      "Spiral\n",
      "/Users/maimulm2/Documents/UM/P1:P2/PyTorch Project/Main/testData/295188.jpg /Users/maimulm2/Documents/UM/P1:P2/PyTorch Project/Main/spiral/\n",
      "Spiral\n"
     ]
    },
    {
     "name": "stderr",
     "output_type": "stream",
     "text": [
      "image 1/1 /Users/maimulm2/Documents/UM/P1:P2/PyTorch Project/Main/testData/4331_jpg.rf.2e7fbc236052b8115c31075f562f76f7.jpg: 640x640 1 Elliptical, 1 Spiral, 952.4ms\n",
      "Speed: 1.5ms preprocess, 952.4ms inference, 1.2ms postprocess per image at shape (1, 3, 640, 640)\n",
      "\n"
     ]
    },
    {
     "name": "stdout",
     "output_type": "stream",
     "text": [
      "Elliptical\n",
      "/Users/maimulm2/Documents/UM/P1:P2/PyTorch Project/Main/testData/4331_jpg.rf.2e7fbc236052b8115c31075f562f76f7.jpg /Users/maimulm2/Documents/UM/P1:P2/PyTorch Project/Main/elliptical/\n",
      "Elliptical\n"
     ]
    },
    {
     "name": "stderr",
     "output_type": "stream",
     "text": [
      "image 1/1 /Users/maimulm2/Documents/UM/P1:P2/PyTorch Project/Main/testData/295161.jpg: 640x640 1 Elliptical, 1057.7ms\n",
      "Speed: 2.7ms preprocess, 1057.7ms inference, 1.0ms postprocess per image at shape (1, 3, 640, 640)\n",
      "\n"
     ]
    },
    {
     "name": "stdout",
     "output_type": "stream",
     "text": [
      "Elliptical\n",
      "/Users/maimulm2/Documents/UM/P1:P2/PyTorch Project/Main/testData/295161.jpg /Users/maimulm2/Documents/UM/P1:P2/PyTorch Project/Main/elliptical/\n",
      "Elliptical\n"
     ]
    },
    {
     "name": "stderr",
     "output_type": "stream",
     "text": [
      "image 1/1 /Users/maimulm2/Documents/UM/P1:P2/PyTorch Project/Main/testData/200177_jpg.rf.83a2bdaeef36383d1bbef4e93e12da92.jpg: 640x640 1 Spiral, 948.7ms\n",
      "Speed: 1.2ms preprocess, 948.7ms inference, 1.4ms postprocess per image at shape (1, 3, 640, 640)\n",
      "\n"
     ]
    },
    {
     "name": "stdout",
     "output_type": "stream",
     "text": [
      "Spiral\n",
      "/Users/maimulm2/Documents/UM/P1:P2/PyTorch Project/Main/testData/200177_jpg.rf.83a2bdaeef36383d1bbef4e93e12da92.jpg /Users/maimulm2/Documents/UM/P1:P2/PyTorch Project/Main/spiral/\n",
      "Spiral\n"
     ]
    },
    {
     "name": "stderr",
     "output_type": "stream",
     "text": [
      "image 1/1 /Users/maimulm2/Documents/UM/P1:P2/PyTorch Project/Main/testData/295203.jpg: 640x640 (no detections), 1072.3ms\n",
      "Speed: 2.6ms preprocess, 1072.3ms inference, 1.2ms postprocess per image at shape (1, 3, 640, 640)\n",
      "\n"
     ]
    },
    {
     "name": "stdout",
     "output_type": "stream",
     "text": [
      "list index out of range\n"
     ]
    },
    {
     "name": "stderr",
     "output_type": "stream",
     "text": [
      "image 1/1 /Users/maimulm2/Documents/UM/P1:P2/PyTorch Project/Main/testData/221919_jpg.rf.142c4fed2fae41b16479e58c191df532.jpg: 640x640 1 Spiral, 948.2ms\n",
      "Speed: 1.9ms preprocess, 948.2ms inference, 1.2ms postprocess per image at shape (1, 3, 640, 640)\n",
      "\n"
     ]
    },
    {
     "name": "stdout",
     "output_type": "stream",
     "text": [
      "Spiral\n",
      "/Users/maimulm2/Documents/UM/P1:P2/PyTorch Project/Main/testData/221919_jpg.rf.142c4fed2fae41b16479e58c191df532.jpg /Users/maimulm2/Documents/UM/P1:P2/PyTorch Project/Main/spiral/\n",
      "Spiral\n"
     ]
    },
    {
     "name": "stderr",
     "output_type": "stream",
     "text": [
      "image 1/1 /Users/maimulm2/Documents/UM/P1:P2/PyTorch Project/Main/testData/295216.jpg: 640x640 1 Spiral, 984.7ms\n",
      "Speed: 2.7ms preprocess, 984.7ms inference, 0.6ms postprocess per image at shape (1, 3, 640, 640)\n",
      "\n"
     ]
    },
    {
     "name": "stdout",
     "output_type": "stream",
     "text": [
      "Spiral\n",
      "/Users/maimulm2/Documents/UM/P1:P2/PyTorch Project/Main/testData/295216.jpg /Users/maimulm2/Documents/UM/P1:P2/PyTorch Project/Main/spiral/\n",
      "Spiral\n"
     ]
    },
    {
     "name": "stderr",
     "output_type": "stream",
     "text": [
      "image 1/1 /Users/maimulm2/Documents/UM/P1:P2/PyTorch Project/Main/testData/110529_jpg.rf.869ac984eee377e1fdf9060b20eed637.jpg: 640x640 1 Elliptical, 1 Spiral, 1117.4ms\n",
      "Speed: 1.5ms preprocess, 1117.4ms inference, 0.9ms postprocess per image at shape (1, 3, 640, 640)\n",
      "\n"
     ]
    },
    {
     "name": "stdout",
     "output_type": "stream",
     "text": [
      "Spiral\n",
      "/Users/maimulm2/Documents/UM/P1:P2/PyTorch Project/Main/testData/110529_jpg.rf.869ac984eee377e1fdf9060b20eed637.jpg /Users/maimulm2/Documents/UM/P1:P2/PyTorch Project/Main/spiral/\n",
      "Spiral\n"
     ]
    },
    {
     "name": "stderr",
     "output_type": "stream",
     "text": [
      "image 1/1 /Users/maimulm2/Documents/UM/P1:P2/PyTorch Project/Main/testData/12585_jpg.rf.c46fe0db2c22a5b76c00cfffc8cf7500.jpg: 640x640 1 Spiral, 1131.0ms\n",
      "Speed: 1.4ms preprocess, 1131.0ms inference, 0.9ms postprocess per image at shape (1, 3, 640, 640)\n",
      "\n"
     ]
    },
    {
     "name": "stdout",
     "output_type": "stream",
     "text": [
      "Spiral\n",
      "/Users/maimulm2/Documents/UM/P1:P2/PyTorch Project/Main/testData/12585_jpg.rf.c46fe0db2c22a5b76c00cfffc8cf7500.jpg /Users/maimulm2/Documents/UM/P1:P2/PyTorch Project/Main/spiral/\n",
      "Spiral\n"
     ]
    },
    {
     "name": "stderr",
     "output_type": "stream",
     "text": [
      "image 1/1 /Users/maimulm2/Documents/UM/P1:P2/PyTorch Project/Main/testData/44015_jpg.rf.a4dd1a17696ef8b909028fa54d59f2d7.jpg: 640x640 1 Elliptical, 926.9ms\n",
      "Speed: 1.3ms preprocess, 926.9ms inference, 1.1ms postprocess per image at shape (1, 3, 640, 640)\n",
      "\n"
     ]
    },
    {
     "name": "stdout",
     "output_type": "stream",
     "text": [
      "Elliptical\n",
      "/Users/maimulm2/Documents/UM/P1:P2/PyTorch Project/Main/testData/44015_jpg.rf.a4dd1a17696ef8b909028fa54d59f2d7.jpg /Users/maimulm2/Documents/UM/P1:P2/PyTorch Project/Main/elliptical/\n",
      "Elliptical\n"
     ]
    },
    {
     "name": "stderr",
     "output_type": "stream",
     "text": [
      "image 1/1 /Users/maimulm2/Documents/UM/P1:P2/PyTorch Project/Main/testData/295148.jpg: 640x640 1 Elliptical, 969.7ms\n",
      "Speed: 2.7ms preprocess, 969.7ms inference, 0.6ms postprocess per image at shape (1, 3, 640, 640)\n",
      "\n"
     ]
    },
    {
     "name": "stdout",
     "output_type": "stream",
     "text": [
      "Elliptical\n",
      "/Users/maimulm2/Documents/UM/P1:P2/PyTorch Project/Main/testData/295148.jpg /Users/maimulm2/Documents/UM/P1:P2/PyTorch Project/Main/elliptical/\n",
      "Elliptical\n"
     ]
    },
    {
     "name": "stderr",
     "output_type": "stream",
     "text": [
      "image 1/1 /Users/maimulm2/Documents/UM/P1:P2/PyTorch Project/Main/testData/295174.jpg: 640x640 1 Spiral, 968.6ms\n",
      "Speed: 2.7ms preprocess, 968.6ms inference, 0.6ms postprocess per image at shape (1, 3, 640, 640)\n",
      "\n"
     ]
    },
    {
     "name": "stdout",
     "output_type": "stream",
     "text": [
      "Spiral\n",
      "/Users/maimulm2/Documents/UM/P1:P2/PyTorch Project/Main/testData/295174.jpg /Users/maimulm2/Documents/UM/P1:P2/PyTorch Project/Main/spiral/\n",
      "Spiral\n"
     ]
    },
    {
     "name": "stderr",
     "output_type": "stream",
     "text": [
      "image 1/1 /Users/maimulm2/Documents/UM/P1:P2/PyTorch Project/Main/testData/41163_jpg.rf.e7cdaa0a3bab9919bb5cac320f083a78.jpg: 640x640 2 Spirals, 1144.2ms\n",
      "Speed: 1.4ms preprocess, 1144.2ms inference, 0.6ms postprocess per image at shape (1, 3, 640, 640)\n",
      "\n"
     ]
    },
    {
     "name": "stdout",
     "output_type": "stream",
     "text": [
      "Spiral\n",
      "/Users/maimulm2/Documents/UM/P1:P2/PyTorch Project/Main/testData/41163_jpg.rf.e7cdaa0a3bab9919bb5cac320f083a78.jpg /Users/maimulm2/Documents/UM/P1:P2/PyTorch Project/Main/spiral/\n",
      "Spiral\n"
     ]
    },
    {
     "name": "stderr",
     "output_type": "stream",
     "text": [
      "image 1/1 /Users/maimulm2/Documents/UM/P1:P2/PyTorch Project/Main/testData/295305.jpg: 640x640 1 Elliptical, 1 Spiral, 1081.7ms\n",
      "Speed: 2.3ms preprocess, 1081.7ms inference, 0.6ms postprocess per image at shape (1, 3, 640, 640)\n",
      "\n"
     ]
    },
    {
     "name": "stdout",
     "output_type": "stream",
     "text": [
      "Elliptical\n",
      "/Users/maimulm2/Documents/UM/P1:P2/PyTorch Project/Main/testData/295305.jpg /Users/maimulm2/Documents/UM/P1:P2/PyTorch Project/Main/elliptical/\n",
      "Elliptical\n"
     ]
    },
    {
     "name": "stderr",
     "output_type": "stream",
     "text": [
      "image 1/1 /Users/maimulm2/Documents/UM/P1:P2/PyTorch Project/Main/testData/34060_jpg.rf.6ea503b71b24533f3fdb9c2fe930069f.jpg: 640x640 2 Ellipticals, 1 Spiral, 957.2ms\n",
      "Speed: 1.5ms preprocess, 957.2ms inference, 1.2ms postprocess per image at shape (1, 3, 640, 640)\n",
      "\n"
     ]
    },
    {
     "name": "stdout",
     "output_type": "stream",
     "text": [
      "Spiral\n",
      "/Users/maimulm2/Documents/UM/P1:P2/PyTorch Project/Main/testData/34060_jpg.rf.6ea503b71b24533f3fdb9c2fe930069f.jpg /Users/maimulm2/Documents/UM/P1:P2/PyTorch Project/Main/spiral/\n",
      "Spiral\n"
     ]
    },
    {
     "name": "stderr",
     "output_type": "stream",
     "text": [
      "image 1/1 /Users/maimulm2/Documents/UM/P1:P2/PyTorch Project/Main/testData/24319_jpg.rf.7394bde706188ea90fbfa94c0f46e50f.jpg: 640x640 1 Spiral, 983.7ms\n",
      "Speed: 1.5ms preprocess, 983.7ms inference, 1.1ms postprocess per image at shape (1, 3, 640, 640)\n",
      "\n"
     ]
    },
    {
     "name": "stdout",
     "output_type": "stream",
     "text": [
      "Spiral\n",
      "/Users/maimulm2/Documents/UM/P1:P2/PyTorch Project/Main/testData/24319_jpg.rf.7394bde706188ea90fbfa94c0f46e50f.jpg /Users/maimulm2/Documents/UM/P1:P2/PyTorch Project/Main/spiral/\n",
      "Spiral\n"
     ]
    },
    {
     "name": "stderr",
     "output_type": "stream",
     "text": [
      "image 1/1 /Users/maimulm2/Documents/UM/P1:P2/PyTorch Project/Main/testData/295259.jpg: 640x640 1 Spiral, 968.1ms\n",
      "Speed: 2.7ms preprocess, 968.1ms inference, 0.6ms postprocess per image at shape (1, 3, 640, 640)\n",
      "\n"
     ]
    },
    {
     "name": "stdout",
     "output_type": "stream",
     "text": [
      "Spiral\n",
      "/Users/maimulm2/Documents/UM/P1:P2/PyTorch Project/Main/testData/295259.jpg /Users/maimulm2/Documents/UM/P1:P2/PyTorch Project/Main/spiral/\n",
      "Spiral\n"
     ]
    },
    {
     "name": "stderr",
     "output_type": "stream",
     "text": [
      "image 1/1 /Users/maimulm2/Documents/UM/P1:P2/PyTorch Project/Main/testData/295270.jpg: 640x640 1 Elliptical, 1112.6ms\n",
      "Speed: 2.7ms preprocess, 1112.6ms inference, 1.1ms postprocess per image at shape (1, 3, 640, 640)\n",
      "\n"
     ]
    },
    {
     "name": "stdout",
     "output_type": "stream",
     "text": [
      "Elliptical\n",
      "/Users/maimulm2/Documents/UM/P1:P2/PyTorch Project/Main/testData/295270.jpg /Users/maimulm2/Documents/UM/P1:P2/PyTorch Project/Main/elliptical/\n",
      "Elliptical\n"
     ]
    },
    {
     "name": "stderr",
     "output_type": "stream",
     "text": [
      "image 1/1 /Users/maimulm2/Documents/UM/P1:P2/PyTorch Project/Main/testData/295264.jpg: 640x640 1 Elliptical, 953.1ms\n",
      "Speed: 2.6ms preprocess, 953.1ms inference, 0.6ms postprocess per image at shape (1, 3, 640, 640)\n",
      "\n"
     ]
    },
    {
     "name": "stdout",
     "output_type": "stream",
     "text": [
      "Elliptical\n",
      "/Users/maimulm2/Documents/UM/P1:P2/PyTorch Project/Main/testData/295264.jpg /Users/maimulm2/Documents/UM/P1:P2/PyTorch Project/Main/elliptical/\n",
      "Elliptical\n"
     ]
    },
    {
     "name": "stderr",
     "output_type": "stream",
     "text": [
      "image 1/1 /Users/maimulm2/Documents/UM/P1:P2/PyTorch Project/Main/testData/12247_jpg.rf.1c3731c2cd53e2f9863017e3902d2948.jpg: 640x640 1 Spiral, 1039.1ms\n",
      "Speed: 1.4ms preprocess, 1039.1ms inference, 0.9ms postprocess per image at shape (1, 3, 640, 640)\n",
      "\n"
     ]
    },
    {
     "name": "stdout",
     "output_type": "stream",
     "text": [
      "Spiral\n",
      "/Users/maimulm2/Documents/UM/P1:P2/PyTorch Project/Main/testData/12247_jpg.rf.1c3731c2cd53e2f9863017e3902d2948.jpg /Users/maimulm2/Documents/UM/P1:P2/PyTorch Project/Main/spiral/\n",
      "Spiral\n"
     ]
    },
    {
     "name": "stderr",
     "output_type": "stream",
     "text": [
      "image 1/1 /Users/maimulm2/Documents/UM/P1:P2/PyTorch Project/Main/testData/295258.jpg: 640x640 1 Spiral, 924.6ms\n",
      "Speed: 2.4ms preprocess, 924.6ms inference, 1.1ms postprocess per image at shape (1, 3, 640, 640)\n",
      "\n"
     ]
    },
    {
     "name": "stdout",
     "output_type": "stream",
     "text": [
      "Spiral\n",
      "/Users/maimulm2/Documents/UM/P1:P2/PyTorch Project/Main/testData/295258.jpg /Users/maimulm2/Documents/UM/P1:P2/PyTorch Project/Main/spiral/\n",
      "Spiral\n"
     ]
    },
    {
     "name": "stderr",
     "output_type": "stream",
     "text": [
      "image 1/1 /Users/maimulm2/Documents/UM/P1:P2/PyTorch Project/Main/testData/38598_jpg.rf.0c711c768d2fa228c96fefbeb4fb1fb0.jpg: 640x640 1 Spiral, 965.0ms\n",
      "Speed: 1.4ms preprocess, 965.0ms inference, 0.7ms postprocess per image at shape (1, 3, 640, 640)\n",
      "\n"
     ]
    },
    {
     "name": "stdout",
     "output_type": "stream",
     "text": [
      "Spiral\n",
      "/Users/maimulm2/Documents/UM/P1:P2/PyTorch Project/Main/testData/38598_jpg.rf.0c711c768d2fa228c96fefbeb4fb1fb0.jpg /Users/maimulm2/Documents/UM/P1:P2/PyTorch Project/Main/spiral/\n",
      "Spiral\n"
     ]
    },
    {
     "name": "stderr",
     "output_type": "stream",
     "text": [
      "image 1/1 /Users/maimulm2/Documents/UM/P1:P2/PyTorch Project/Main/testData/45930_jpg.rf.5dbc1b40684c046a404605e4a686b353.jpg: 640x640 2 Spirals, 1069.0ms\n",
      "Speed: 1.4ms preprocess, 1069.0ms inference, 1.4ms postprocess per image at shape (1, 3, 640, 640)\n",
      "\n"
     ]
    },
    {
     "name": "stdout",
     "output_type": "stream",
     "text": [
      "Spiral\n",
      "/Users/maimulm2/Documents/UM/P1:P2/PyTorch Project/Main/testData/45930_jpg.rf.5dbc1b40684c046a404605e4a686b353.jpg /Users/maimulm2/Documents/UM/P1:P2/PyTorch Project/Main/spiral/\n",
      "Spiral\n"
     ]
    },
    {
     "name": "stderr",
     "output_type": "stream",
     "text": [
      "image 1/1 /Users/maimulm2/Documents/UM/P1:P2/PyTorch Project/Main/testData/295304.jpg: 640x640 1 Spiral, 963.4ms\n",
      "Speed: 3.2ms preprocess, 963.4ms inference, 1.2ms postprocess per image at shape (1, 3, 640, 640)\n",
      "\n"
     ]
    },
    {
     "name": "stdout",
     "output_type": "stream",
     "text": [
      "Spiral\n",
      "/Users/maimulm2/Documents/UM/P1:P2/PyTorch Project/Main/testData/295304.jpg /Users/maimulm2/Documents/UM/P1:P2/PyTorch Project/Main/spiral/\n",
      "Spiral\n"
     ]
    },
    {
     "name": "stderr",
     "output_type": "stream",
     "text": [
      "image 1/1 /Users/maimulm2/Documents/UM/P1:P2/PyTorch Project/Main/testData/40996_jpg.rf.5b0828995f77c6e071f7ee31e2284998.jpg: 640x640 1 Spiral, 940.0ms\n",
      "Speed: 1.4ms preprocess, 940.0ms inference, 1.3ms postprocess per image at shape (1, 3, 640, 640)\n",
      "\n"
     ]
    },
    {
     "name": "stdout",
     "output_type": "stream",
     "text": [
      "Spiral\n",
      "/Users/maimulm2/Documents/UM/P1:P2/PyTorch Project/Main/testData/40996_jpg.rf.5b0828995f77c6e071f7ee31e2284998.jpg /Users/maimulm2/Documents/UM/P1:P2/PyTorch Project/Main/spiral/\n",
      "Spiral\n"
     ]
    },
    {
     "name": "stderr",
     "output_type": "stream",
     "text": [
      "image 1/1 /Users/maimulm2/Documents/UM/P1:P2/PyTorch Project/Main/testData/48242_jpg.rf.756ddfd6a34ad4ae1fb640d37d4390bd.jpg: 640x640 1 Spiral, 1033.2ms\n",
      "Speed: 1.4ms preprocess, 1033.2ms inference, 1.2ms postprocess per image at shape (1, 3, 640, 640)\n",
      "\n"
     ]
    },
    {
     "name": "stdout",
     "output_type": "stream",
     "text": [
      "Spiral\n",
      "/Users/maimulm2/Documents/UM/P1:P2/PyTorch Project/Main/testData/48242_jpg.rf.756ddfd6a34ad4ae1fb640d37d4390bd.jpg /Users/maimulm2/Documents/UM/P1:P2/PyTorch Project/Main/spiral/\n",
      "Spiral\n"
     ]
    },
    {
     "name": "stderr",
     "output_type": "stream",
     "text": [
      "image 1/1 /Users/maimulm2/Documents/UM/P1:P2/PyTorch Project/Main/testData/281457_jpg.rf.e578473289ea2033b95289e946e4db8a.jpg: 640x640 1 Spiral, 972.8ms\n",
      "Speed: 1.4ms preprocess, 972.8ms inference, 0.6ms postprocess per image at shape (1, 3, 640, 640)\n",
      "\n"
     ]
    },
    {
     "name": "stdout",
     "output_type": "stream",
     "text": [
      "Spiral\n",
      "/Users/maimulm2/Documents/UM/P1:P2/PyTorch Project/Main/testData/281457_jpg.rf.e578473289ea2033b95289e946e4db8a.jpg /Users/maimulm2/Documents/UM/P1:P2/PyTorch Project/Main/spiral/\n",
      "Spiral\n"
     ]
    },
    {
     "name": "stderr",
     "output_type": "stream",
     "text": [
      "image 1/1 /Users/maimulm2/Documents/UM/P1:P2/PyTorch Project/Main/testData/10797_jpg.rf.1c6948ad1bd5059b6d4a7739f46ab5eb.jpg: 640x640 1 Spiral, 949.9ms\n",
      "Speed: 1.4ms preprocess, 949.9ms inference, 1.2ms postprocess per image at shape (1, 3, 640, 640)\n",
      "\n"
     ]
    },
    {
     "name": "stdout",
     "output_type": "stream",
     "text": [
      "Spiral\n",
      "/Users/maimulm2/Documents/UM/P1:P2/PyTorch Project/Main/testData/10797_jpg.rf.1c6948ad1bd5059b6d4a7739f46ab5eb.jpg /Users/maimulm2/Documents/UM/P1:P2/PyTorch Project/Main/spiral/\n",
      "Spiral\n"
     ]
    },
    {
     "name": "stderr",
     "output_type": "stream",
     "text": [
      "image 1/1 /Users/maimulm2/Documents/UM/P1:P2/PyTorch Project/Main/testData/32279_jpg.rf.099111283bf704617c28a9fad5d5db73.jpg: 640x640 1 Spiral, 1076.2ms\n",
      "Speed: 1.4ms preprocess, 1076.2ms inference, 1.1ms postprocess per image at shape (1, 3, 640, 640)\n",
      "\n"
     ]
    },
    {
     "name": "stdout",
     "output_type": "stream",
     "text": [
      "Spiral\n",
      "/Users/maimulm2/Documents/UM/P1:P2/PyTorch Project/Main/testData/32279_jpg.rf.099111283bf704617c28a9fad5d5db73.jpg /Users/maimulm2/Documents/UM/P1:P2/PyTorch Project/Main/spiral/\n",
      "Spiral\n"
     ]
    },
    {
     "name": "stderr",
     "output_type": "stream",
     "text": [
      "image 1/1 /Users/maimulm2/Documents/UM/P1:P2/PyTorch Project/Main/testData/48818_jpg.rf.84bcce1a9d6170008fd2845681af9f9c.jpg: 640x640 1 Spiral, 975.8ms\n",
      "Speed: 1.5ms preprocess, 975.8ms inference, 1.0ms postprocess per image at shape (1, 3, 640, 640)\n",
      "\n"
     ]
    },
    {
     "name": "stdout",
     "output_type": "stream",
     "text": [
      "Spiral\n",
      "/Users/maimulm2/Documents/UM/P1:P2/PyTorch Project/Main/testData/48818_jpg.rf.84bcce1a9d6170008fd2845681af9f9c.jpg /Users/maimulm2/Documents/UM/P1:P2/PyTorch Project/Main/spiral/\n",
      "Spiral\n"
     ]
    },
    {
     "name": "stderr",
     "output_type": "stream",
     "text": [
      "image 1/1 /Users/maimulm2/Documents/UM/P1:P2/PyTorch Project/Main/testData/173114_jpg.rf.fa4f99a63bdda326ab1ffd8131637641.jpg: 640x640 1 Spiral, 1134.1ms\n",
      "Speed: 1.4ms preprocess, 1134.1ms inference, 1.1ms postprocess per image at shape (1, 3, 640, 640)\n",
      "\n"
     ]
    },
    {
     "name": "stdout",
     "output_type": "stream",
     "text": [
      "Spiral\n",
      "/Users/maimulm2/Documents/UM/P1:P2/PyTorch Project/Main/testData/173114_jpg.rf.fa4f99a63bdda326ab1ffd8131637641.jpg /Users/maimulm2/Documents/UM/P1:P2/PyTorch Project/Main/spiral/\n",
      "Spiral\n"
     ]
    },
    {
     "name": "stderr",
     "output_type": "stream",
     "text": [
      "image 1/1 /Users/maimulm2/Documents/UM/P1:P2/PyTorch Project/Main/testData/47848_jpg.rf.bd36624f3d3811ab7f1aa4fa5b8deba7.jpg: 640x640 1 Spiral, 934.9ms\n",
      "Speed: 1.4ms preprocess, 934.9ms inference, 1.2ms postprocess per image at shape (1, 3, 640, 640)\n",
      "\n"
     ]
    },
    {
     "name": "stdout",
     "output_type": "stream",
     "text": [
      "Spiral\n",
      "/Users/maimulm2/Documents/UM/P1:P2/PyTorch Project/Main/testData/47848_jpg.rf.bd36624f3d3811ab7f1aa4fa5b8deba7.jpg /Users/maimulm2/Documents/UM/P1:P2/PyTorch Project/Main/spiral/\n",
      "Spiral\n"
     ]
    },
    {
     "name": "stderr",
     "output_type": "stream",
     "text": [
      "image 1/1 /Users/maimulm2/Documents/UM/P1:P2/PyTorch Project/Main/testData/295272.jpg: 640x640 1 Elliptical, 945.4ms\n",
      "Speed: 2.6ms preprocess, 945.4ms inference, 0.6ms postprocess per image at shape (1, 3, 640, 640)\n",
      "\n"
     ]
    },
    {
     "name": "stdout",
     "output_type": "stream",
     "text": [
      "Elliptical\n",
      "/Users/maimulm2/Documents/UM/P1:P2/PyTorch Project/Main/testData/295272.jpg /Users/maimulm2/Documents/UM/P1:P2/PyTorch Project/Main/elliptical/\n",
      "Elliptical\n"
     ]
    },
    {
     "name": "stderr",
     "output_type": "stream",
     "text": [
      "image 1/1 /Users/maimulm2/Documents/UM/P1:P2/PyTorch Project/Main/testData/41254_jpg.rf.615849f305cdd85757c8ec3d05531944.jpg: 640x640 1 Spiral, 1106.5ms\n",
      "Speed: 1.4ms preprocess, 1106.5ms inference, 1.1ms postprocess per image at shape (1, 3, 640, 640)\n",
      "\n"
     ]
    },
    {
     "name": "stdout",
     "output_type": "stream",
     "text": [
      "Spiral\n",
      "/Users/maimulm2/Documents/UM/P1:P2/PyTorch Project/Main/testData/41254_jpg.rf.615849f305cdd85757c8ec3d05531944.jpg /Users/maimulm2/Documents/UM/P1:P2/PyTorch Project/Main/spiral/\n",
      "Spiral\n"
     ]
    },
    {
     "name": "stderr",
     "output_type": "stream",
     "text": [
      "image 1/1 /Users/maimulm2/Documents/UM/P1:P2/PyTorch Project/Main/testData/295267.jpg: 640x640 1 Elliptical, 947.8ms\n",
      "Speed: 2.6ms preprocess, 947.8ms inference, 1.2ms postprocess per image at shape (1, 3, 640, 640)\n",
      "\n"
     ]
    },
    {
     "name": "stdout",
     "output_type": "stream",
     "text": [
      "Elliptical\n",
      "/Users/maimulm2/Documents/UM/P1:P2/PyTorch Project/Main/testData/295267.jpg /Users/maimulm2/Documents/UM/P1:P2/PyTorch Project/Main/elliptical/\n",
      "Elliptical\n"
     ]
    },
    {
     "name": "stderr",
     "output_type": "stream",
     "text": [
      "image 1/1 /Users/maimulm2/Documents/UM/P1:P2/PyTorch Project/Main/testData/48891_jpg.rf.6f1c29a45996c96642254a8df4bdc89d.jpg: 640x640 1 Spiral, 1048.3ms\n",
      "Speed: 1.5ms preprocess, 1048.3ms inference, 1.2ms postprocess per image at shape (1, 3, 640, 640)\n",
      "\n"
     ]
    },
    {
     "name": "stdout",
     "output_type": "stream",
     "text": [
      "Spiral\n",
      "/Users/maimulm2/Documents/UM/P1:P2/PyTorch Project/Main/testData/48891_jpg.rf.6f1c29a45996c96642254a8df4bdc89d.jpg /Users/maimulm2/Documents/UM/P1:P2/PyTorch Project/Main/spiral/\n",
      "Spiral\n"
     ]
    },
    {
     "name": "stderr",
     "output_type": "stream",
     "text": [
      "image 1/1 /Users/maimulm2/Documents/UM/P1:P2/PyTorch Project/Main/testData/222150_jpg.rf.e70533fb33dedce81e0909ffe0b02de4.jpg: 640x640 1 Spiral, 948.9ms\n",
      "Speed: 1.4ms preprocess, 948.9ms inference, 1.1ms postprocess per image at shape (1, 3, 640, 640)\n",
      "\n"
     ]
    },
    {
     "name": "stdout",
     "output_type": "stream",
     "text": [
      "Spiral\n",
      "/Users/maimulm2/Documents/UM/P1:P2/PyTorch Project/Main/testData/222150_jpg.rf.e70533fb33dedce81e0909ffe0b02de4.jpg /Users/maimulm2/Documents/UM/P1:P2/PyTorch Project/Main/spiral/\n",
      "Spiral\n"
     ]
    },
    {
     "name": "stderr",
     "output_type": "stream",
     "text": [
      "image 1/1 /Users/maimulm2/Documents/UM/P1:P2/PyTorch Project/Main/testData/238211_jpg.rf.c68ec38e27a8fb1921ad65fb5ae0ac03.jpg: 640x640 1 Spiral, 969.6ms\n",
      "Speed: 1.4ms preprocess, 969.6ms inference, 1.1ms postprocess per image at shape (1, 3, 640, 640)\n",
      "\n"
     ]
    },
    {
     "name": "stdout",
     "output_type": "stream",
     "text": [
      "Spiral\n",
      "/Users/maimulm2/Documents/UM/P1:P2/PyTorch Project/Main/testData/238211_jpg.rf.c68ec38e27a8fb1921ad65fb5ae0ac03.jpg /Users/maimulm2/Documents/UM/P1:P2/PyTorch Project/Main/spiral/\n",
      "Spiral\n"
     ]
    },
    {
     "name": "stderr",
     "output_type": "stream",
     "text": [
      "image 1/1 /Users/maimulm2/Documents/UM/P1:P2/PyTorch Project/Main/testData/158467_jpg.rf.1ec184136b1d23062bce63eefc2fb7e4.jpg: 640x640 1 Spiral, 1156.0ms\n",
      "Speed: 1.4ms preprocess, 1156.0ms inference, 1.2ms postprocess per image at shape (1, 3, 640, 640)\n",
      "\n"
     ]
    },
    {
     "name": "stdout",
     "output_type": "stream",
     "text": [
      "Spiral\n",
      "/Users/maimulm2/Documents/UM/P1:P2/PyTorch Project/Main/testData/158467_jpg.rf.1ec184136b1d23062bce63eefc2fb7e4.jpg /Users/maimulm2/Documents/UM/P1:P2/PyTorch Project/Main/spiral/\n",
      "Spiral\n"
     ]
    },
    {
     "name": "stderr",
     "output_type": "stream",
     "text": [
      "image 1/1 /Users/maimulm2/Documents/UM/P1:P2/PyTorch Project/Main/testData/7234_jpg.rf.81de1bbd3342ce5b06fcef859ebf1f8f.jpg: 640x640 1 Spiral, 921.8ms\n",
      "Speed: 1.2ms preprocess, 921.8ms inference, 0.7ms postprocess per image at shape (1, 3, 640, 640)\n",
      "\n"
     ]
    },
    {
     "name": "stdout",
     "output_type": "stream",
     "text": [
      "Spiral\n",
      "/Users/maimulm2/Documents/UM/P1:P2/PyTorch Project/Main/testData/7234_jpg.rf.81de1bbd3342ce5b06fcef859ebf1f8f.jpg /Users/maimulm2/Documents/UM/P1:P2/PyTorch Project/Main/spiral/\n",
      "Spiral\n"
     ]
    },
    {
     "name": "stderr",
     "output_type": "stream",
     "text": [
      "image 1/1 /Users/maimulm2/Documents/UM/P1:P2/PyTorch Project/Main/testData/177373_jpg.rf.e832ce939e1db09863953b7ae8d631c9.jpg: 640x640 1 Spiral, 1061.3ms\n",
      "Speed: 1.5ms preprocess, 1061.3ms inference, 1.1ms postprocess per image at shape (1, 3, 640, 640)\n",
      "\n"
     ]
    },
    {
     "name": "stdout",
     "output_type": "stream",
     "text": [
      "Spiral\n",
      "/Users/maimulm2/Documents/UM/P1:P2/PyTorch Project/Main/testData/177373_jpg.rf.e832ce939e1db09863953b7ae8d631c9.jpg /Users/maimulm2/Documents/UM/P1:P2/PyTorch Project/Main/spiral/\n",
      "Spiral\n"
     ]
    },
    {
     "name": "stderr",
     "output_type": "stream",
     "text": [
      "image 1/1 /Users/maimulm2/Documents/UM/P1:P2/PyTorch Project/Main/testData/51694_jpg.rf.24abb989c4006939560642d46499eaed.jpg: 640x640 2 Spirals, 937.4ms\n",
      "Speed: 1.4ms preprocess, 937.4ms inference, 1.2ms postprocess per image at shape (1, 3, 640, 640)\n",
      "\n"
     ]
    },
    {
     "name": "stdout",
     "output_type": "stream",
     "text": [
      "Spiral\n",
      "/Users/maimulm2/Documents/UM/P1:P2/PyTorch Project/Main/testData/51694_jpg.rf.24abb989c4006939560642d46499eaed.jpg /Users/maimulm2/Documents/UM/P1:P2/PyTorch Project/Main/spiral/\n",
      "Spiral\n"
     ]
    },
    {
     "name": "stderr",
     "output_type": "stream",
     "text": [
      "image 1/1 /Users/maimulm2/Documents/UM/P1:P2/PyTorch Project/Main/testData/295263.jpg: 640x640 1 Spiral, 953.5ms\n",
      "Speed: 2.6ms preprocess, 953.5ms inference, 1.0ms postprocess per image at shape (1, 3, 640, 640)\n",
      "\n"
     ]
    },
    {
     "name": "stdout",
     "output_type": "stream",
     "text": [
      "Spiral\n",
      "/Users/maimulm2/Documents/UM/P1:P2/PyTorch Project/Main/testData/295263.jpg /Users/maimulm2/Documents/UM/P1:P2/PyTorch Project/Main/spiral/\n",
      "Spiral\n"
     ]
    },
    {
     "name": "stderr",
     "output_type": "stream",
     "text": [
      "image 1/1 /Users/maimulm2/Documents/UM/P1:P2/PyTorch Project/Main/testData/7854_jpg.rf.0929efcb376021127688b27643e804b1.jpg: 640x640 1 Spiral, 1064.5ms\n",
      "Speed: 1.5ms preprocess, 1064.5ms inference, 1.1ms postprocess per image at shape (1, 3, 640, 640)\n",
      "\n"
     ]
    },
    {
     "name": "stdout",
     "output_type": "stream",
     "text": [
      "Spiral\n",
      "/Users/maimulm2/Documents/UM/P1:P2/PyTorch Project/Main/testData/7854_jpg.rf.0929efcb376021127688b27643e804b1.jpg /Users/maimulm2/Documents/UM/P1:P2/PyTorch Project/Main/spiral/\n",
      "Spiral\n"
     ]
    },
    {
     "name": "stderr",
     "output_type": "stream",
     "text": [
      "image 1/1 /Users/maimulm2/Documents/UM/P1:P2/PyTorch Project/Main/testData/295276.jpg: 640x640 1 Spiral, 935.4ms\n",
      "Speed: 2.8ms preprocess, 935.4ms inference, 0.6ms postprocess per image at shape (1, 3, 640, 640)\n",
      "\n"
     ]
    },
    {
     "name": "stdout",
     "output_type": "stream",
     "text": [
      "Spiral\n",
      "/Users/maimulm2/Documents/UM/P1:P2/PyTorch Project/Main/testData/295276.jpg /Users/maimulm2/Documents/UM/P1:P2/PyTorch Project/Main/spiral/\n",
      "Spiral\n"
     ]
    },
    {
     "name": "stderr",
     "output_type": "stream",
     "text": [
      "image 1/1 /Users/maimulm2/Documents/UM/P1:P2/PyTorch Project/Main/testData/55683_jpg.rf.324ff610656c98c337a33bd099c4c55a.jpg: 640x640 (no detections), 1075.5ms\n",
      "Speed: 2.0ms preprocess, 1075.5ms inference, 0.3ms postprocess per image at shape (1, 3, 640, 640)\n",
      "\n"
     ]
    },
    {
     "name": "stdout",
     "output_type": "stream",
     "text": [
      "list index out of range\n"
     ]
    },
    {
     "name": "stderr",
     "output_type": "stream",
     "text": [
      "image 1/1 /Users/maimulm2/Documents/UM/P1:P2/PyTorch Project/Main/testData/295289.jpg: 640x640 1 Elliptical, 951.6ms\n",
      "Speed: 2.2ms preprocess, 951.6ms inference, 0.6ms postprocess per image at shape (1, 3, 640, 640)\n",
      "\n"
     ]
    },
    {
     "name": "stdout",
     "output_type": "stream",
     "text": [
      "Elliptical\n",
      "/Users/maimulm2/Documents/UM/P1:P2/PyTorch Project/Main/testData/295289.jpg /Users/maimulm2/Documents/UM/P1:P2/PyTorch Project/Main/elliptical/\n",
      "Elliptical\n"
     ]
    },
    {
     "name": "stderr",
     "output_type": "stream",
     "text": [
      "image 1/1 /Users/maimulm2/Documents/UM/P1:P2/PyTorch Project/Main/testData/92099_jpg.rf.4147ae442b25604821fe45c0cf79541f.jpg: 640x640 1 Spiral, 937.8ms\n",
      "Speed: 1.4ms preprocess, 937.8ms inference, 1.2ms postprocess per image at shape (1, 3, 640, 640)\n",
      "\n"
     ]
    },
    {
     "name": "stdout",
     "output_type": "stream",
     "text": [
      "Spiral\n",
      "/Users/maimulm2/Documents/UM/P1:P2/PyTorch Project/Main/testData/92099_jpg.rf.4147ae442b25604821fe45c0cf79541f.jpg /Users/maimulm2/Documents/UM/P1:P2/PyTorch Project/Main/spiral/\n",
      "Spiral\n"
     ]
    },
    {
     "name": "stderr",
     "output_type": "stream",
     "text": [
      "image 1/1 /Users/maimulm2/Documents/UM/P1:P2/PyTorch Project/Main/testData/206156_jpg.rf.91d69e74ee11a6b1738a2726efd9c4f2.jpg: 640x640 2 Spirals, 1125.8ms\n",
      "Speed: 1.5ms preprocess, 1125.8ms inference, 0.8ms postprocess per image at shape (1, 3, 640, 640)\n",
      "\n"
     ]
    },
    {
     "name": "stdout",
     "output_type": "stream",
     "text": [
      "Spiral\n",
      "/Users/maimulm2/Documents/UM/P1:P2/PyTorch Project/Main/testData/206156_jpg.rf.91d69e74ee11a6b1738a2726efd9c4f2.jpg /Users/maimulm2/Documents/UM/P1:P2/PyTorch Project/Main/spiral/\n",
      "Spiral\n"
     ]
    },
    {
     "name": "stderr",
     "output_type": "stream",
     "text": [
      "image 1/1 /Users/maimulm2/Documents/UM/P1:P2/PyTorch Project/Main/testData/56785_jpg.rf.a0658702735fa88ab58c4f1d33eb010d.jpg: 640x640 1 Spiral, 899.6ms\n",
      "Speed: 1.3ms preprocess, 899.6ms inference, 1.1ms postprocess per image at shape (1, 3, 640, 640)\n",
      "\n"
     ]
    },
    {
     "name": "stdout",
     "output_type": "stream",
     "text": [
      "Spiral\n",
      "/Users/maimulm2/Documents/UM/P1:P2/PyTorch Project/Main/testData/56785_jpg.rf.a0658702735fa88ab58c4f1d33eb010d.jpg /Users/maimulm2/Documents/UM/P1:P2/PyTorch Project/Main/spiral/\n",
      "Spiral\n"
     ]
    },
    {
     "name": "stderr",
     "output_type": "stream",
     "text": [
      "image 1/1 /Users/maimulm2/Documents/UM/P1:P2/PyTorch Project/Main/testData/37664_jpg.rf.24788a278464c2ecdad10116a2f368fc.jpg: 640x640 1 Spiral, 1023.4ms\n",
      "Speed: 1.5ms preprocess, 1023.4ms inference, 1.1ms postprocess per image at shape (1, 3, 640, 640)\n",
      "\n"
     ]
    },
    {
     "name": "stdout",
     "output_type": "stream",
     "text": [
      "Spiral\n",
      "/Users/maimulm2/Documents/UM/P1:P2/PyTorch Project/Main/testData/37664_jpg.rf.24788a278464c2ecdad10116a2f368fc.jpg /Users/maimulm2/Documents/UM/P1:P2/PyTorch Project/Main/spiral/\n",
      "Spiral\n"
     ]
    },
    {
     "name": "stderr",
     "output_type": "stream",
     "text": [
      "image 1/1 /Users/maimulm2/Documents/UM/P1:P2/PyTorch Project/Main/testData/295248.jpg: 640x640 1 Elliptical, 953.1ms\n",
      "Speed: 2.6ms preprocess, 953.1ms inference, 1.2ms postprocess per image at shape (1, 3, 640, 640)\n",
      "\n"
     ]
    },
    {
     "name": "stdout",
     "output_type": "stream",
     "text": [
      "Elliptical\n",
      "/Users/maimulm2/Documents/UM/P1:P2/PyTorch Project/Main/testData/295248.jpg /Users/maimulm2/Documents/UM/P1:P2/PyTorch Project/Main/elliptical/\n",
      "Elliptical\n"
     ]
    },
    {
     "name": "stderr",
     "output_type": "stream",
     "text": [
      "image 1/1 /Users/maimulm2/Documents/UM/P1:P2/PyTorch Project/Main/testData/295275.jpg: 640x640 (no detections), 955.3ms\n",
      "Speed: 2.6ms preprocess, 955.3ms inference, 0.4ms postprocess per image at shape (1, 3, 640, 640)\n",
      "\n"
     ]
    },
    {
     "name": "stdout",
     "output_type": "stream",
     "text": [
      "list index out of range\n"
     ]
    },
    {
     "name": "stderr",
     "output_type": "stream",
     "text": [
      "image 1/1 /Users/maimulm2/Documents/UM/P1:P2/PyTorch Project/Main/testData/295261.jpg: 640x640 1 Spiral, 1011.2ms\n",
      "Speed: 2.6ms preprocess, 1011.2ms inference, 1.5ms postprocess per image at shape (1, 3, 640, 640)\n",
      "\n"
     ]
    },
    {
     "name": "stdout",
     "output_type": "stream",
     "text": [
      "Spiral\n",
      "/Users/maimulm2/Documents/UM/P1:P2/PyTorch Project/Main/testData/295261.jpg /Users/maimulm2/Documents/UM/P1:P2/PyTorch Project/Main/spiral/\n",
      "Spiral\n"
     ]
    },
    {
     "name": "stderr",
     "output_type": "stream",
     "text": [
      "image 1/1 /Users/maimulm2/Documents/UM/P1:P2/PyTorch Project/Main/testData/26098_jpg.rf.14ec2f58f1c121d9a7c2c86e5b463b35.jpg: 640x640 1 Spiral, 955.9ms\n",
      "Speed: 1.8ms preprocess, 955.9ms inference, 1.3ms postprocess per image at shape (1, 3, 640, 640)\n",
      "\n"
     ]
    },
    {
     "name": "stdout",
     "output_type": "stream",
     "text": [
      "Spiral\n",
      "/Users/maimulm2/Documents/UM/P1:P2/PyTorch Project/Main/testData/26098_jpg.rf.14ec2f58f1c121d9a7c2c86e5b463b35.jpg /Users/maimulm2/Documents/UM/P1:P2/PyTorch Project/Main/spiral/\n",
      "Spiral\n"
     ]
    },
    {
     "name": "stderr",
     "output_type": "stream",
     "text": [
      "image 1/1 /Users/maimulm2/Documents/UM/P1:P2/PyTorch Project/Main/testData/11429_jpg.rf.20dfd311d362c98176986e87516a1011.jpg: 640x640 1 Spiral, 1018.2ms\n",
      "Speed: 1.5ms preprocess, 1018.2ms inference, 1.2ms postprocess per image at shape (1, 3, 640, 640)\n"
     ]
    },
    {
     "name": "stdout",
     "output_type": "stream",
     "text": [
      "Spiral\n",
      "/Users/maimulm2/Documents/UM/P1:P2/PyTorch Project/Main/testData/11429_jpg.rf.20dfd311d362c98176986e87516a1011.jpg /Users/maimulm2/Documents/UM/P1:P2/PyTorch Project/Main/spiral/\n",
      "Spiral\n"
     ]
    }
   ],
   "source": [
    "main_run()"
   ]
  },
  {
   "cell_type": "code",
   "execution_count": null,
   "metadata": {},
   "outputs": [],
   "source": [
    "with open(\"results.txt\", \"w\") as f:\n",
    "    for result in results:\n",
    "        item = json.loads(result.tojson())\n",
    "        f.write(item['name'] + \"\\n\")"
   ]
  },
  {
   "cell_type": "code",
   "execution_count": 17,
   "metadata": {},
   "outputs": [
    {
     "ename": "NameError",
     "evalue": "name '__file__' is not defined",
     "output_type": "error",
     "traceback": [
      "\u001b[0;31m---------------------------------------------------------------------------\u001b[0m",
      "\u001b[0;31mNameError\u001b[0m                                 Traceback (most recent call last)",
      "Cell \u001b[0;32mIn[17], line 1\u001b[0m\n\u001b[0;32m----> 1\u001b[0m os\u001b[39m.\u001b[39mpath\u001b[39m.\u001b[39mdirname(\u001b[39m__file__\u001b[39;49m)\n",
      "\u001b[0;31mNameError\u001b[0m: name '__file__' is not defined"
     ]
    }
   ],
   "source": [
    "os.path.dirname(__file__)"
   ]
  },
  {
   "cell_type": "code",
   "execution_count": null,
   "metadata": {},
   "outputs": [],
   "source": []
  }
 ],
 "metadata": {
  "kernelspec": {
   "display_name": "venv-metal",
   "language": "python",
   "name": "python3"
  },
  "language_info": {
   "codemirror_mode": {
    "name": "ipython",
    "version": 3
   },
   "file_extension": ".py",
   "mimetype": "text/x-python",
   "name": "python",
   "nbconvert_exporter": "python",
   "pygments_lexer": "ipython3",
   "version": "3.11.4"
  },
  "orig_nbformat": 4
 },
 "nbformat": 4,
 "nbformat_minor": 2
}
